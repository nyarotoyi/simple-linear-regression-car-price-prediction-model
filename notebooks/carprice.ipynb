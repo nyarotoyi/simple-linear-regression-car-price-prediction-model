{
 "cells": [
  {
   "cell_type": "code",
   "execution_count": 1,
   "metadata": {},
   "outputs": [],
   "source": [
    "#Import the necessary Libraries\n",
    "import numpy as np \n",
    "import pandas as pd\n"
   ]
  },
  {
   "cell_type": "markdown",
   "metadata": {},
   "source": [
    "# Data Preparation"
   ]
  },
  {
   "cell_type": "code",
   "execution_count": 2,
   "metadata": {},
   "outputs": [],
   "source": [
    "# Load data\n",
    "csv_file_path = \"../data/raw/data.csv\"\n",
    "df = pd.read_csv(csv_file_path)"
   ]
  },
  {
   "cell_type": "code",
   "execution_count": 3,
   "metadata": {},
   "outputs": [
    {
     "data": {
      "text/plain": [
       "11914"
      ]
     },
     "execution_count": 3,
     "metadata": {},
     "output_type": "execute_result"
    }
   ],
   "source": [
    "# Dataframe size\n",
    "len(df)"
   ]
  },
  {
   "cell_type": "code",
   "execution_count": 4,
   "metadata": {},
   "outputs": [
    {
     "data": {
      "text/plain": [
       "(11914, 16)"
      ]
     },
     "execution_count": 4,
     "metadata": {},
     "output_type": "execute_result"
    }
   ],
   "source": [
    "df.shape"
   ]
  },
  {
   "cell_type": "code",
   "execution_count": 5,
   "metadata": {},
   "outputs": [
    {
     "data": {
      "text/html": [
       "<div>\n",
       "<style scoped>\n",
       "    .dataframe tbody tr th:only-of-type {\n",
       "        vertical-align: middle;\n",
       "    }\n",
       "\n",
       "    .dataframe tbody tr th {\n",
       "        vertical-align: top;\n",
       "    }\n",
       "\n",
       "    .dataframe thead th {\n",
       "        text-align: right;\n",
       "    }\n",
       "</style>\n",
       "<table border=\"1\" class=\"dataframe\">\n",
       "  <thead>\n",
       "    <tr style=\"text-align: right;\">\n",
       "      <th></th>\n",
       "      <th>Make</th>\n",
       "      <th>Model</th>\n",
       "      <th>Year</th>\n",
       "      <th>Engine Fuel Type</th>\n",
       "      <th>Engine HP</th>\n",
       "      <th>Engine Cylinders</th>\n",
       "      <th>Transmission Type</th>\n",
       "      <th>Driven_Wheels</th>\n",
       "      <th>Number of Doors</th>\n",
       "      <th>Market Category</th>\n",
       "      <th>Vehicle Size</th>\n",
       "      <th>Vehicle Style</th>\n",
       "      <th>highway MPG</th>\n",
       "      <th>city mpg</th>\n",
       "      <th>Popularity</th>\n",
       "      <th>MSRP</th>\n",
       "    </tr>\n",
       "  </thead>\n",
       "  <tbody>\n",
       "    <tr>\n",
       "      <th>0</th>\n",
       "      <td>BMW</td>\n",
       "      <td>1 Series M</td>\n",
       "      <td>2011</td>\n",
       "      <td>premium unleaded (required)</td>\n",
       "      <td>335.0</td>\n",
       "      <td>6.0</td>\n",
       "      <td>MANUAL</td>\n",
       "      <td>rear wheel drive</td>\n",
       "      <td>2.0</td>\n",
       "      <td>Factory Tuner,Luxury,High-Performance</td>\n",
       "      <td>Compact</td>\n",
       "      <td>Coupe</td>\n",
       "      <td>26</td>\n",
       "      <td>19</td>\n",
       "      <td>3916</td>\n",
       "      <td>46135</td>\n",
       "    </tr>\n",
       "    <tr>\n",
       "      <th>1</th>\n",
       "      <td>BMW</td>\n",
       "      <td>1 Series</td>\n",
       "      <td>2011</td>\n",
       "      <td>premium unleaded (required)</td>\n",
       "      <td>300.0</td>\n",
       "      <td>6.0</td>\n",
       "      <td>MANUAL</td>\n",
       "      <td>rear wheel drive</td>\n",
       "      <td>2.0</td>\n",
       "      <td>Luxury,Performance</td>\n",
       "      <td>Compact</td>\n",
       "      <td>Convertible</td>\n",
       "      <td>28</td>\n",
       "      <td>19</td>\n",
       "      <td>3916</td>\n",
       "      <td>40650</td>\n",
       "    </tr>\n",
       "    <tr>\n",
       "      <th>2</th>\n",
       "      <td>BMW</td>\n",
       "      <td>1 Series</td>\n",
       "      <td>2011</td>\n",
       "      <td>premium unleaded (required)</td>\n",
       "      <td>300.0</td>\n",
       "      <td>6.0</td>\n",
       "      <td>MANUAL</td>\n",
       "      <td>rear wheel drive</td>\n",
       "      <td>2.0</td>\n",
       "      <td>Luxury,High-Performance</td>\n",
       "      <td>Compact</td>\n",
       "      <td>Coupe</td>\n",
       "      <td>28</td>\n",
       "      <td>20</td>\n",
       "      <td>3916</td>\n",
       "      <td>36350</td>\n",
       "    </tr>\n",
       "    <tr>\n",
       "      <th>3</th>\n",
       "      <td>BMW</td>\n",
       "      <td>1 Series</td>\n",
       "      <td>2011</td>\n",
       "      <td>premium unleaded (required)</td>\n",
       "      <td>230.0</td>\n",
       "      <td>6.0</td>\n",
       "      <td>MANUAL</td>\n",
       "      <td>rear wheel drive</td>\n",
       "      <td>2.0</td>\n",
       "      <td>Luxury,Performance</td>\n",
       "      <td>Compact</td>\n",
       "      <td>Coupe</td>\n",
       "      <td>28</td>\n",
       "      <td>18</td>\n",
       "      <td>3916</td>\n",
       "      <td>29450</td>\n",
       "    </tr>\n",
       "    <tr>\n",
       "      <th>4</th>\n",
       "      <td>BMW</td>\n",
       "      <td>1 Series</td>\n",
       "      <td>2011</td>\n",
       "      <td>premium unleaded (required)</td>\n",
       "      <td>230.0</td>\n",
       "      <td>6.0</td>\n",
       "      <td>MANUAL</td>\n",
       "      <td>rear wheel drive</td>\n",
       "      <td>2.0</td>\n",
       "      <td>Luxury</td>\n",
       "      <td>Compact</td>\n",
       "      <td>Convertible</td>\n",
       "      <td>28</td>\n",
       "      <td>18</td>\n",
       "      <td>3916</td>\n",
       "      <td>34500</td>\n",
       "    </tr>\n",
       "  </tbody>\n",
       "</table>\n",
       "</div>"
      ],
      "text/plain": [
       "  Make       Model  Year             Engine Fuel Type  Engine HP  \\\n",
       "0  BMW  1 Series M  2011  premium unleaded (required)      335.0   \n",
       "1  BMW    1 Series  2011  premium unleaded (required)      300.0   \n",
       "2  BMW    1 Series  2011  premium unleaded (required)      300.0   \n",
       "3  BMW    1 Series  2011  premium unleaded (required)      230.0   \n",
       "4  BMW    1 Series  2011  premium unleaded (required)      230.0   \n",
       "\n",
       "   Engine Cylinders Transmission Type     Driven_Wheels  Number of Doors  \\\n",
       "0               6.0            MANUAL  rear wheel drive              2.0   \n",
       "1               6.0            MANUAL  rear wheel drive              2.0   \n",
       "2               6.0            MANUAL  rear wheel drive              2.0   \n",
       "3               6.0            MANUAL  rear wheel drive              2.0   \n",
       "4               6.0            MANUAL  rear wheel drive              2.0   \n",
       "\n",
       "                         Market Category Vehicle Size Vehicle Style  \\\n",
       "0  Factory Tuner,Luxury,High-Performance      Compact         Coupe   \n",
       "1                     Luxury,Performance      Compact   Convertible   \n",
       "2                Luxury,High-Performance      Compact         Coupe   \n",
       "3                     Luxury,Performance      Compact         Coupe   \n",
       "4                                 Luxury      Compact   Convertible   \n",
       "\n",
       "   highway MPG  city mpg  Popularity   MSRP  \n",
       "0           26        19        3916  46135  \n",
       "1           28        19        3916  40650  \n",
       "2           28        20        3916  36350  \n",
       "3           28        18        3916  29450  \n",
       "4           28        18        3916  34500  "
      ]
     },
     "execution_count": 5,
     "metadata": {},
     "output_type": "execute_result"
    }
   ],
   "source": [
    "#Inspect the first few rows\n",
    "df.head()"
   ]
  },
  {
   "cell_type": "markdown",
   "metadata": {},
   "source": [
    "The data offers useful features such as as car: model, make, year and other variables we can use to predict the price(MSRP).\n",
    "The features naming convention is inconsistent. There are some with spaces others with underscores. As well as name and lowercase. In the next code we solve that by replacing spaces with underscores and making all names lowecase."
   ]
  },
  {
   "cell_type": "code",
   "execution_count": 6,
   "metadata": {},
   "outputs": [],
   "source": [
    "# Clean column names: lowercase and replace spaces with underscores\n",
    "df.columns = df.columns.str.lower().str.replace(\" \", \"-\")"
   ]
  },
  {
   "cell_type": "code",
   "execution_count": 7,
   "metadata": {},
   "outputs": [
    {
     "data": {
      "text/html": [
       "<div>\n",
       "<style scoped>\n",
       "    .dataframe tbody tr th:only-of-type {\n",
       "        vertical-align: middle;\n",
       "    }\n",
       "\n",
       "    .dataframe tbody tr th {\n",
       "        vertical-align: top;\n",
       "    }\n",
       "\n",
       "    .dataframe thead th {\n",
       "        text-align: right;\n",
       "    }\n",
       "</style>\n",
       "<table border=\"1\" class=\"dataframe\">\n",
       "  <thead>\n",
       "    <tr style=\"text-align: right;\">\n",
       "      <th></th>\n",
       "      <th>make</th>\n",
       "      <th>model</th>\n",
       "      <th>year</th>\n",
       "      <th>engine-fuel-type</th>\n",
       "      <th>engine-hp</th>\n",
       "      <th>engine-cylinders</th>\n",
       "      <th>transmission-type</th>\n",
       "      <th>driven_wheels</th>\n",
       "      <th>number-of-doors</th>\n",
       "      <th>market-category</th>\n",
       "      <th>vehicle-size</th>\n",
       "      <th>vehicle-style</th>\n",
       "      <th>highway-mpg</th>\n",
       "      <th>city-mpg</th>\n",
       "      <th>popularity</th>\n",
       "      <th>msrp</th>\n",
       "    </tr>\n",
       "  </thead>\n",
       "  <tbody>\n",
       "    <tr>\n",
       "      <th>0</th>\n",
       "      <td>BMW</td>\n",
       "      <td>1 Series M</td>\n",
       "      <td>2011</td>\n",
       "      <td>premium unleaded (required)</td>\n",
       "      <td>335.0</td>\n",
       "      <td>6.0</td>\n",
       "      <td>MANUAL</td>\n",
       "      <td>rear wheel drive</td>\n",
       "      <td>2.0</td>\n",
       "      <td>Factory Tuner,Luxury,High-Performance</td>\n",
       "      <td>Compact</td>\n",
       "      <td>Coupe</td>\n",
       "      <td>26</td>\n",
       "      <td>19</td>\n",
       "      <td>3916</td>\n",
       "      <td>46135</td>\n",
       "    </tr>\n",
       "    <tr>\n",
       "      <th>1</th>\n",
       "      <td>BMW</td>\n",
       "      <td>1 Series</td>\n",
       "      <td>2011</td>\n",
       "      <td>premium unleaded (required)</td>\n",
       "      <td>300.0</td>\n",
       "      <td>6.0</td>\n",
       "      <td>MANUAL</td>\n",
       "      <td>rear wheel drive</td>\n",
       "      <td>2.0</td>\n",
       "      <td>Luxury,Performance</td>\n",
       "      <td>Compact</td>\n",
       "      <td>Convertible</td>\n",
       "      <td>28</td>\n",
       "      <td>19</td>\n",
       "      <td>3916</td>\n",
       "      <td>40650</td>\n",
       "    </tr>\n",
       "    <tr>\n",
       "      <th>2</th>\n",
       "      <td>BMW</td>\n",
       "      <td>1 Series</td>\n",
       "      <td>2011</td>\n",
       "      <td>premium unleaded (required)</td>\n",
       "      <td>300.0</td>\n",
       "      <td>6.0</td>\n",
       "      <td>MANUAL</td>\n",
       "      <td>rear wheel drive</td>\n",
       "      <td>2.0</td>\n",
       "      <td>Luxury,High-Performance</td>\n",
       "      <td>Compact</td>\n",
       "      <td>Coupe</td>\n",
       "      <td>28</td>\n",
       "      <td>20</td>\n",
       "      <td>3916</td>\n",
       "      <td>36350</td>\n",
       "    </tr>\n",
       "    <tr>\n",
       "      <th>3</th>\n",
       "      <td>BMW</td>\n",
       "      <td>1 Series</td>\n",
       "      <td>2011</td>\n",
       "      <td>premium unleaded (required)</td>\n",
       "      <td>230.0</td>\n",
       "      <td>6.0</td>\n",
       "      <td>MANUAL</td>\n",
       "      <td>rear wheel drive</td>\n",
       "      <td>2.0</td>\n",
       "      <td>Luxury,Performance</td>\n",
       "      <td>Compact</td>\n",
       "      <td>Coupe</td>\n",
       "      <td>28</td>\n",
       "      <td>18</td>\n",
       "      <td>3916</td>\n",
       "      <td>29450</td>\n",
       "    </tr>\n",
       "    <tr>\n",
       "      <th>4</th>\n",
       "      <td>BMW</td>\n",
       "      <td>1 Series</td>\n",
       "      <td>2011</td>\n",
       "      <td>premium unleaded (required)</td>\n",
       "      <td>230.0</td>\n",
       "      <td>6.0</td>\n",
       "      <td>MANUAL</td>\n",
       "      <td>rear wheel drive</td>\n",
       "      <td>2.0</td>\n",
       "      <td>Luxury</td>\n",
       "      <td>Compact</td>\n",
       "      <td>Convertible</td>\n",
       "      <td>28</td>\n",
       "      <td>18</td>\n",
       "      <td>3916</td>\n",
       "      <td>34500</td>\n",
       "    </tr>\n",
       "  </tbody>\n",
       "</table>\n",
       "</div>"
      ],
      "text/plain": [
       "  make       model  year             engine-fuel-type  engine-hp  \\\n",
       "0  BMW  1 Series M  2011  premium unleaded (required)      335.0   \n",
       "1  BMW    1 Series  2011  premium unleaded (required)      300.0   \n",
       "2  BMW    1 Series  2011  premium unleaded (required)      300.0   \n",
       "3  BMW    1 Series  2011  premium unleaded (required)      230.0   \n",
       "4  BMW    1 Series  2011  premium unleaded (required)      230.0   \n",
       "\n",
       "   engine-cylinders transmission-type     driven_wheels  number-of-doors  \\\n",
       "0               6.0            MANUAL  rear wheel drive              2.0   \n",
       "1               6.0            MANUAL  rear wheel drive              2.0   \n",
       "2               6.0            MANUAL  rear wheel drive              2.0   \n",
       "3               6.0            MANUAL  rear wheel drive              2.0   \n",
       "4               6.0            MANUAL  rear wheel drive              2.0   \n",
       "\n",
       "                         market-category vehicle-size vehicle-style  \\\n",
       "0  Factory Tuner,Luxury,High-Performance      Compact         Coupe   \n",
       "1                     Luxury,Performance      Compact   Convertible   \n",
       "2                Luxury,High-Performance      Compact         Coupe   \n",
       "3                     Luxury,Performance      Compact         Coupe   \n",
       "4                                 Luxury      Compact   Convertible   \n",
       "\n",
       "   highway-mpg  city-mpg  popularity   msrp  \n",
       "0           26        19        3916  46135  \n",
       "1           28        19        3916  40650  \n",
       "2           28        20        3916  36350  \n",
       "3           28        18        3916  29450  \n",
       "4           28        18        3916  34500  "
      ]
     },
     "execution_count": 7,
     "metadata": {},
     "output_type": "execute_result"
    }
   ],
   "source": [
    "df.head()"
   ]
  },
  {
   "cell_type": "markdown",
   "metadata": {},
   "source": []
  },
  {
   "cell_type": "markdown",
   "metadata": {},
   "source": [
    "The strings in the dataset also seem inconsistent so we will standardise that as well.\n",
    "We first figure out the features that are of object data type by  running df.dtypes\n",
    "Run df.dtypes[df.dtypes == 'object].index to output the features with object data type and store that in a variable called strings as a list.\n",
    "Loop over the columns in the string to convert to lower case and replace spaces. Overwite the innitial df with the new values."
   ]
  },
  {
   "cell_type": "code",
   "execution_count": 8,
   "metadata": {},
   "outputs": [
    {
     "data": {
      "text/plain": [
       "make                  object\n",
       "model                 object\n",
       "year                   int64\n",
       "engine-fuel-type      object\n",
       "engine-hp            float64\n",
       "engine-cylinders     float64\n",
       "transmission-type     object\n",
       "driven_wheels         object\n",
       "number-of-doors      float64\n",
       "market-category       object\n",
       "vehicle-size          object\n",
       "vehicle-style         object\n",
       "highway-mpg            int64\n",
       "city-mpg               int64\n",
       "popularity             int64\n",
       "msrp                   int64\n",
       "dtype: object"
      ]
     },
     "execution_count": 8,
     "metadata": {},
     "output_type": "execute_result"
    }
   ],
   "source": [
    "df.dtypes"
   ]
  },
  {
   "cell_type": "code",
   "execution_count": 9,
   "metadata": {},
   "outputs": [
    {
     "data": {
      "text/plain": [
       "['make',\n",
       " 'model',\n",
       " 'engine-fuel-type',\n",
       " 'transmission-type',\n",
       " 'driven_wheels',\n",
       " 'market-category',\n",
       " 'vehicle-size',\n",
       " 'vehicle-style']"
      ]
     },
     "execution_count": 9,
     "metadata": {},
     "output_type": "execute_result"
    }
   ],
   "source": [
    "strings = list(df.dtypes[df.dtypes ==  'object'].index)\n",
    "strings"
   ]
  },
  {
   "cell_type": "code",
   "execution_count": 10,
   "metadata": {},
   "outputs": [],
   "source": [
    "# Standardize strings in object columns\n",
    "\n",
    "for col in strings:\n",
    "\n",
    "    df[col] = df[col].str.lower().str.replace(' ', '_')"
   ]
  },
  {
   "cell_type": "code",
   "execution_count": 11,
   "metadata": {},
   "outputs": [
    {
     "data": {
      "text/html": [
       "<div>\n",
       "<style scoped>\n",
       "    .dataframe tbody tr th:only-of-type {\n",
       "        vertical-align: middle;\n",
       "    }\n",
       "\n",
       "    .dataframe tbody tr th {\n",
       "        vertical-align: top;\n",
       "    }\n",
       "\n",
       "    .dataframe thead th {\n",
       "        text-align: right;\n",
       "    }\n",
       "</style>\n",
       "<table border=\"1\" class=\"dataframe\">\n",
       "  <thead>\n",
       "    <tr style=\"text-align: right;\">\n",
       "      <th></th>\n",
       "      <th>make</th>\n",
       "      <th>model</th>\n",
       "      <th>year</th>\n",
       "      <th>engine-fuel-type</th>\n",
       "      <th>engine-hp</th>\n",
       "      <th>engine-cylinders</th>\n",
       "      <th>transmission-type</th>\n",
       "      <th>driven_wheels</th>\n",
       "      <th>number-of-doors</th>\n",
       "      <th>market-category</th>\n",
       "      <th>vehicle-size</th>\n",
       "      <th>vehicle-style</th>\n",
       "      <th>highway-mpg</th>\n",
       "      <th>city-mpg</th>\n",
       "      <th>popularity</th>\n",
       "      <th>msrp</th>\n",
       "    </tr>\n",
       "  </thead>\n",
       "  <tbody>\n",
       "    <tr>\n",
       "      <th>0</th>\n",
       "      <td>bmw</td>\n",
       "      <td>1_series_m</td>\n",
       "      <td>2011</td>\n",
       "      <td>premium_unleaded_(required)</td>\n",
       "      <td>335.0</td>\n",
       "      <td>6.0</td>\n",
       "      <td>manual</td>\n",
       "      <td>rear_wheel_drive</td>\n",
       "      <td>2.0</td>\n",
       "      <td>factory_tuner,luxury,high-performance</td>\n",
       "      <td>compact</td>\n",
       "      <td>coupe</td>\n",
       "      <td>26</td>\n",
       "      <td>19</td>\n",
       "      <td>3916</td>\n",
       "      <td>46135</td>\n",
       "    </tr>\n",
       "    <tr>\n",
       "      <th>1</th>\n",
       "      <td>bmw</td>\n",
       "      <td>1_series</td>\n",
       "      <td>2011</td>\n",
       "      <td>premium_unleaded_(required)</td>\n",
       "      <td>300.0</td>\n",
       "      <td>6.0</td>\n",
       "      <td>manual</td>\n",
       "      <td>rear_wheel_drive</td>\n",
       "      <td>2.0</td>\n",
       "      <td>luxury,performance</td>\n",
       "      <td>compact</td>\n",
       "      <td>convertible</td>\n",
       "      <td>28</td>\n",
       "      <td>19</td>\n",
       "      <td>3916</td>\n",
       "      <td>40650</td>\n",
       "    </tr>\n",
       "    <tr>\n",
       "      <th>2</th>\n",
       "      <td>bmw</td>\n",
       "      <td>1_series</td>\n",
       "      <td>2011</td>\n",
       "      <td>premium_unleaded_(required)</td>\n",
       "      <td>300.0</td>\n",
       "      <td>6.0</td>\n",
       "      <td>manual</td>\n",
       "      <td>rear_wheel_drive</td>\n",
       "      <td>2.0</td>\n",
       "      <td>luxury,high-performance</td>\n",
       "      <td>compact</td>\n",
       "      <td>coupe</td>\n",
       "      <td>28</td>\n",
       "      <td>20</td>\n",
       "      <td>3916</td>\n",
       "      <td>36350</td>\n",
       "    </tr>\n",
       "    <tr>\n",
       "      <th>3</th>\n",
       "      <td>bmw</td>\n",
       "      <td>1_series</td>\n",
       "      <td>2011</td>\n",
       "      <td>premium_unleaded_(required)</td>\n",
       "      <td>230.0</td>\n",
       "      <td>6.0</td>\n",
       "      <td>manual</td>\n",
       "      <td>rear_wheel_drive</td>\n",
       "      <td>2.0</td>\n",
       "      <td>luxury,performance</td>\n",
       "      <td>compact</td>\n",
       "      <td>coupe</td>\n",
       "      <td>28</td>\n",
       "      <td>18</td>\n",
       "      <td>3916</td>\n",
       "      <td>29450</td>\n",
       "    </tr>\n",
       "    <tr>\n",
       "      <th>4</th>\n",
       "      <td>bmw</td>\n",
       "      <td>1_series</td>\n",
       "      <td>2011</td>\n",
       "      <td>premium_unleaded_(required)</td>\n",
       "      <td>230.0</td>\n",
       "      <td>6.0</td>\n",
       "      <td>manual</td>\n",
       "      <td>rear_wheel_drive</td>\n",
       "      <td>2.0</td>\n",
       "      <td>luxury</td>\n",
       "      <td>compact</td>\n",
       "      <td>convertible</td>\n",
       "      <td>28</td>\n",
       "      <td>18</td>\n",
       "      <td>3916</td>\n",
       "      <td>34500</td>\n",
       "    </tr>\n",
       "  </tbody>\n",
       "</table>\n",
       "</div>"
      ],
      "text/plain": [
       "  make       model  year             engine-fuel-type  engine-hp  \\\n",
       "0  bmw  1_series_m  2011  premium_unleaded_(required)      335.0   \n",
       "1  bmw    1_series  2011  premium_unleaded_(required)      300.0   \n",
       "2  bmw    1_series  2011  premium_unleaded_(required)      300.0   \n",
       "3  bmw    1_series  2011  premium_unleaded_(required)      230.0   \n",
       "4  bmw    1_series  2011  premium_unleaded_(required)      230.0   \n",
       "\n",
       "   engine-cylinders transmission-type     driven_wheels  number-of-doors  \\\n",
       "0               6.0            manual  rear_wheel_drive              2.0   \n",
       "1               6.0            manual  rear_wheel_drive              2.0   \n",
       "2               6.0            manual  rear_wheel_drive              2.0   \n",
       "3               6.0            manual  rear_wheel_drive              2.0   \n",
       "4               6.0            manual  rear_wheel_drive              2.0   \n",
       "\n",
       "                         market-category vehicle-size vehicle-style  \\\n",
       "0  factory_tuner,luxury,high-performance      compact         coupe   \n",
       "1                     luxury,performance      compact   convertible   \n",
       "2                luxury,high-performance      compact         coupe   \n",
       "3                     luxury,performance      compact         coupe   \n",
       "4                                 luxury      compact   convertible   \n",
       "\n",
       "   highway-mpg  city-mpg  popularity   msrp  \n",
       "0           26        19        3916  46135  \n",
       "1           28        19        3916  40650  \n",
       "2           28        20        3916  36350  \n",
       "3           28        18        3916  29450  \n",
       "4           28        18        3916  34500  "
      ]
     },
     "execution_count": 11,
     "metadata": {},
     "output_type": "execute_result"
    }
   ],
   "source": [
    "df.head()"
   ]
  },
  {
   "cell_type": "markdown",
   "metadata": {},
   "source": [
    "# Exploratory Data Analysis\n",
    "\n",
    "Exploratory Data Analysis (EDA) is an essential step in the data analysis process that involves exploring and understanding the characteristics and patterns of the dataset. The primary goal of EDA is to gain insights into the data, identify trends, anomalies, and relationships between variables, and inform subsequent steps in the analysis.\n",
    "\n",
    "In this section, we perform exploratory data analysis on the car dataset to gain a deeper understanding of its features and distributions. We iterate over each column in the dataset and examine unique values to identify the type of data and the number of unique values present. This initial exploration helps us identify potential issues such as missing values, inconsistent data formats, and outliers.\n",
    "\n",
    "By visualizing the distribution of the target variable (car prices) using histograms, we can gain insights into how prices are spread across the dataset. Understanding the distribution of prices is crucial for selecting appropriate modeling techniques and evaluating model performance.\n",
    "\n",
    "\n"
   ]
  },
  {
   "cell_type": "code",
   "execution_count": 12,
   "metadata": {},
   "outputs": [
    {
     "name": "stdout",
     "output_type": "stream",
     "text": [
      "make\n",
      "['bmw' 'audi' 'fiat' 'mercedes-benz' 'chrysler']\n",
      "48\n",
      "model\n",
      "['1_series_m' '1_series' '100' '124_spider' '190-class']\n",
      "914\n",
      "year\n",
      "[2011 2012 2013 1992 1993]\n",
      "28\n",
      "engine-fuel-type\n",
      "['premium_unleaded_(required)' 'regular_unleaded'\n",
      " 'premium_unleaded_(recommended)' 'flex-fuel_(unleaded/e85)' 'diesel']\n",
      "10\n",
      "engine-hp\n",
      "[335. 300. 230. 320. 172.]\n",
      "356\n",
      "engine-cylinders\n",
      "[ 6.  4.  5.  8. 12.]\n",
      "9\n",
      "transmission-type\n",
      "['manual' 'automatic' 'automated_manual' 'direct_drive' 'unknown']\n",
      "5\n",
      "driven_wheels\n",
      "['rear_wheel_drive' 'front_wheel_drive' 'all_wheel_drive'\n",
      " 'four_wheel_drive']\n",
      "4\n",
      "number-of-doors\n",
      "[ 2.  4.  3. nan]\n",
      "3\n",
      "market-category\n",
      "['factory_tuner,luxury,high-performance' 'luxury,performance'\n",
      " 'luxury,high-performance' 'luxury' 'performance']\n",
      "71\n",
      "vehicle-size\n",
      "['compact' 'midsize' 'large']\n",
      "3\n",
      "vehicle-style\n",
      "['coupe' 'convertible' 'sedan' 'wagon' '4dr_hatchback']\n",
      "16\n",
      "highway-mpg\n",
      "[26 28 27 25 24]\n",
      "59\n",
      "city-mpg\n",
      "[19 20 18 17 16]\n",
      "69\n",
      "popularity\n",
      "[3916 3105  819  617 1013]\n",
      "48\n",
      "msrp\n",
      "[46135 40650 36350 29450 34500]\n",
      "6049\n"
     ]
    }
   ],
   "source": [
    "# Loop over each column to understand data types and unique values\n",
    "\n",
    "for col in df.columns:\n",
    "\n",
    "    print(col)\n",
    "\n",
    "    print(df[col].unique()[:5])\n",
    "\n",
    "    print(df[col].nunique())"
   ]
  },
  {
   "cell_type": "markdown",
   "metadata": {},
   "source": [
    "## Distribution of Price\n",
    "Helps us:\n",
    "1. Understanding Data Spread: It reveals how prices are distributed, guiding model selection and performance evaluation. Though for our case, we are using linear regression model.\n",
    "2. Outlier Detection: Helps identify anomalies that might skew predictions, aiding in data cleaning.\n",
    "3. Feature Engineering Insights: Distribution insights can inform transformations to improve model performance.\n",
    "4. Model Assumptions: Ensures model assumptions, like normal distribution(As in linear regression model), align with data reality.\n",
    "5. Evaluation Interpretation: Assists in interpreting model performance metrics against actual price distribution."
   ]
  },
  {
   "cell_type": "code",
   "execution_count": 13,
   "metadata": {},
   "outputs": [],
   "source": [
    "import matplotlib.pyplot as plt\n",
    "import seaborn as sns\n",
    "\n",
    "#ensures plots are displayed within a notebook.\n",
    "%matplotlib inline  "
   ]
  },
  {
   "cell_type": "code",
   "execution_count": 14,
   "metadata": {},
   "outputs": [
    {
     "name": "stderr",
     "output_type": "stream",
     "text": [
      "c:\\Users\\Zeetracker\\anaconda3\\Lib\\site-packages\\seaborn\\_oldcore.py:1119: FutureWarning: use_inf_as_na option is deprecated and will be removed in a future version. Convert inf values to NaN before operating instead.\n",
      "  with pd.option_context('mode.use_inf_as_na', True):\n"
     ]
    },
    {
     "data": {
      "text/plain": [
       "<Axes: xlabel='msrp', ylabel='Count'>"
      ]
     },
     "execution_count": 14,
     "metadata": {},
     "output_type": "execute_result"
    },
    {
     "data": {
      "image/png": "[encoded data removed]",
      "text/plain": [
       "<Figure size 640x480 with 1 Axes>"
      ]
     },
     "metadata": {},
     "output_type": "display_data"
    }
   ],
   "source": [
    "#Display a histogram with the prices in intervals of 50 bins.\n",
    "sns.histplot(df.msrp, bins=50)"
   ]
  },
  {
   "cell_type": "markdown",
   "metadata": {},
   "source": [
    "The histogram above plots the distribution of the car's prices in the dataset.\n",
    "\n",
    "**Obsevations**\n",
    "\n",
    "Majority of car prices are concentrated within a range of 100,000 to 500000.\n",
    "\n",
    "There is a notable deviation in the distribution towards higher prices. Beyond the 500,000 mark, there is a long tail of car prices, indicating that a few cars have significantly higher prices compared to the majority.\n",
    "\n",
    "We can increase the granularity by displaying the histogram of prices less than 1000000 ignoring the tail for further analysis."
   ]
  },
  {
   "cell_type": "code",
   "execution_count": 15,
   "metadata": {},
   "outputs": [
    {
     "name": "stderr",
     "output_type": "stream",
     "text": [
      "c:\\Users\\Zeetracker\\anaconda3\\Lib\\site-packages\\seaborn\\_oldcore.py:1119: FutureWarning: use_inf_as_na option is deprecated and will be removed in a future version. Convert inf values to NaN before operating instead.\n",
      "  with pd.option_context('mode.use_inf_as_na', True):\n"
     ]
    },
    {
     "data": {
      "text/plain": [
       "<Axes: xlabel='msrp', ylabel='Count'>"
      ]
     },
     "execution_count": 15,
     "metadata": {},
     "output_type": "execute_result"
    },
    {
     "data": {
      "image/png": "[encoded data removed]",
      "text/plain": [
       "<Figure size 640x480 with 1 Axes>"
      ]
     },
     "metadata": {},
     "output_type": "display_data"
    }
   ],
   "source": [
    "#Display histogram of prices  less than 100,000\n",
    "sns.histplot(df.msrp[df.msrp < 100000], bins=50)"
   ]
  },
  {
   "cell_type": "markdown",
   "metadata": {},
   "source": [
    "To address the long tail distribution issues(Skewness) in the data, We will employ logarithmic transformation. In order to compress the long tail and spread out the densley populated region making it  more symmetrical.\n",
    "\n",
    "N/B long tail distribution is not good for the machine learning model we are about to use."
   ]
  },
  {
   "cell_type": "code",
   "execution_count": 16,
   "metadata": {},
   "outputs": [],
   "source": [
    "#Transform prices to logarithms and store the new values in a variable\n",
    "price_logs = np.log1p(df.msrp)"
   ]
  },
  {
   "cell_type": "code",
   "execution_count": 17,
   "metadata": {},
   "outputs": [
    {
     "data": {
      "text/plain": [
       "0        10.739349\n",
       "1        10.612779\n",
       "2        10.500977\n",
       "3        10.290483\n",
       "4        10.448744\n",
       "           ...    \n",
       "11909    10.739024\n",
       "11910    10.945018\n",
       "11911    10.832122\n",
       "11912    10.838031\n",
       "11913    10.274913\n",
       "Name: msrp, Length: 11914, dtype: float64"
      ]
     },
     "execution_count": 17,
     "metadata": {},
     "output_type": "execute_result"
    }
   ],
   "source": [
    "price_logs"
   ]
  },
  {
   "cell_type": "code",
   "execution_count": 18,
   "metadata": {},
   "outputs": [
    {
     "name": "stderr",
     "output_type": "stream",
     "text": [
      "c:\\Users\\Zeetracker\\anaconda3\\Lib\\site-packages\\seaborn\\_oldcore.py:1119: FutureWarning: use_inf_as_na option is deprecated and will be removed in a future version. Convert inf values to NaN before operating instead.\n",
      "  with pd.option_context('mode.use_inf_as_na', True):\n"
     ]
    },
    {
     "data": {
      "text/plain": [
       "<Axes: xlabel='msrp', ylabel='Count'>"
      ]
     },
     "execution_count": 18,
     "metadata": {},
     "output_type": "execute_result"
    },
    {
     "data": {
      "image/png": "[encoded data removed]",
      "text/plain": [
       "<Figure size 640x480 with 1 Axes>"
      ]
     },
     "metadata": {},
     "output_type": "display_data"
    }
   ],
   "source": [
    "# Visualize the transformed data distribution\n",
    "sns.histplot(price_logs, bins = 50)"
   ]
  },
  {
   "cell_type": "markdown",
   "metadata": {},
   "source": [
    "What we have above is a normal distribution which is good for the model."
   ]
  },
  {
   "cell_type": "markdown",
   "metadata": {},
   "source": [
    "# Handle Missing Values\n",
    "In order to handle potential errors improve model's performance\n",
    "We will use scikit learn and Mean as our chosen imputation strategy\n",
    "\n"
   ]
  },
  {
   "cell_type": "code",
   "execution_count": 19,
   "metadata": {},
   "outputs": [
    {
     "data": {
      "text/plain": [
       "make                    0\n",
       "model                   0\n",
       "year                    0\n",
       "engine-fuel-type        3\n",
       "engine-hp              69\n",
       "engine-cylinders       30\n",
       "transmission-type       0\n",
       "driven_wheels           0\n",
       "number-of-doors         6\n",
       "market-category      3742\n",
       "vehicle-size            0\n",
       "vehicle-style           0\n",
       "highway-mpg             0\n",
       "city-mpg                0\n",
       "popularity              0\n",
       "msrp                    0\n",
       "dtype: int64"
      ]
     },
     "execution_count": 19,
     "metadata": {},
     "output_type": "execute_result"
    }
   ],
   "source": [
    "# Display number of missing values per column\n",
    "df.isnull().sum()"
   ]
  },
  {
   "cell_type": "code",
   "execution_count": 20,
   "metadata": {},
   "outputs": [],
   "source": [
    "# Use scikit-learn to impute missing values in the numeric data\n",
    "from sklearn.impute import SimpleImputer\n",
    "\n",
    "# Select numeric columns\n",
    "numeric_columns = df.select_dtypes(include=[\"float64\", \"int64\"]).columns\n",
    "\n",
    "# Create an instance of SimpleImputer with mean as the chosen strategy\n",
    "imputer = SimpleImputer(strategy=\"mean\")\n",
    "\n",
    "# Fit the imputer to the numeric columns and transform them\n",
    "df[numeric_columns] = imputer.fit_transform(df[numeric_columns])"
   ]
  },
  {
   "cell_type": "code",
   "execution_count": 21,
   "metadata": {},
   "outputs": [
    {
     "data": {
      "text/plain": [
       "make                    0\n",
       "model                   0\n",
       "year                    0\n",
       "engine-fuel-type        3\n",
       "engine-hp               0\n",
       "engine-cylinders        0\n",
       "transmission-type       0\n",
       "driven_wheels           0\n",
       "number-of-doors         0\n",
       "market-category      3742\n",
       "vehicle-size            0\n",
       "vehicle-style           0\n",
       "highway-mpg             0\n",
       "city-mpg                0\n",
       "popularity              0\n",
       "msrp                    0\n",
       "dtype: int64"
      ]
     },
     "execution_count": 21,
     "metadata": {},
     "output_type": "execute_result"
    }
   ],
   "source": [
    "df.isnull().sum()"
   ]
  },
  {
   "cell_type": "markdown",
   "metadata": {},
   "source": [
    "# Setting up the validation framework\n",
    "Split our data into 2 parts.\n",
    "1. Training dataset - used to train the machine learning model.\n",
    "3. Validation Dataset - The validation dataset is used to evaluate the final performance of the trained model on unseen data.\n"
   ]
  },
  {
   "cell_type": "code",
   "execution_count": 22,
   "metadata": {},
   "outputs": [
    {
     "data": {
      "text/plain": [
       "(2382, 9532)"
      ]
     },
     "execution_count": 22,
     "metadata": {},
     "output_type": "execute_result"
    }
   ],
   "source": [
    "# Initialize a variable n that equals to the length of the data frame\n",
    "n = len(df)\n",
    "\n",
    "#split the dataframe\n",
    "n_val = int(n * 0.2)\n",
    "n_train = n  - n_val\n",
    "\n",
    "#View the split figures\n",
    "n_val, n_train"
   ]
  },
  {
   "cell_type": "markdown",
   "metadata": {},
   "source": [
    "We want to assign the split figures into new data frames.\n",
    "We'll use the .iloc[]  pandas method. A method used to access and manipulate data in  dataframe based on its integer position(Index).\n",
    "Also, we will shuffle the rows so that the data is randomly distributed accross the split sets to minimize biasness that may arise from the ordering of the data."
   ]
  },
  {
   "cell_type": "code",
   "execution_count": 23,
   "metadata": {},
   "outputs": [],
   "source": [
    "#Generate an array idx containing numbers from 0 - n\n",
    "idx = np.arange(n)\n",
    "# Set the random generator seed to make the number generator same everytime the code runs(Reproducable)\n",
    "np.random.seed(2)\n",
    "#randomly shuffle the elements of idx\n",
    "np.random.shuffle(idx)"
   ]
  },
  {
   "cell_type": "code",
   "execution_count": 24,
   "metadata": {},
   "outputs": [],
   "source": [
    "\n",
    "\n",
    "# Select the first n_train indices for training data\n",
    "df_train = df.iloc[idx[:n_train]]\n",
    "\n",
    "# Select the remaining indices for validation data\n",
    "df_val = df.iloc[idx[n_train:]]"
   ]
  },
  {
   "cell_type": "code",
   "execution_count": 25,
   "metadata": {},
   "outputs": [
    {
     "data": {
      "text/html": [
       "<div>\n",
       "<style scoped>\n",
       "    .dataframe tbody tr th:only-of-type {\n",
       "        vertical-align: middle;\n",
       "    }\n",
       "\n",
       "    .dataframe tbody tr th {\n",
       "        vertical-align: top;\n",
       "    }\n",
       "\n",
       "    .dataframe thead th {\n",
       "        text-align: right;\n",
       "    }\n",
       "</style>\n",
       "<table border=\"1\" class=\"dataframe\">\n",
       "  <thead>\n",
       "    <tr style=\"text-align: right;\">\n",
       "      <th></th>\n",
       "      <th>make</th>\n",
       "      <th>model</th>\n",
       "      <th>year</th>\n",
       "      <th>engine-fuel-type</th>\n",
       "      <th>engine-hp</th>\n",
       "      <th>engine-cylinders</th>\n",
       "      <th>transmission-type</th>\n",
       "      <th>driven_wheels</th>\n",
       "      <th>number-of-doors</th>\n",
       "      <th>market-category</th>\n",
       "      <th>vehicle-size</th>\n",
       "      <th>vehicle-style</th>\n",
       "      <th>highway-mpg</th>\n",
       "      <th>city-mpg</th>\n",
       "      <th>popularity</th>\n",
       "      <th>msrp</th>\n",
       "    </tr>\n",
       "  </thead>\n",
       "  <tbody>\n",
       "    <tr>\n",
       "      <th>2735</th>\n",
       "      <td>chevrolet</td>\n",
       "      <td>cobalt</td>\n",
       "      <td>2008.0</td>\n",
       "      <td>regular_unleaded</td>\n",
       "      <td>148.0</td>\n",
       "      <td>4.0</td>\n",
       "      <td>manual</td>\n",
       "      <td>front_wheel_drive</td>\n",
       "      <td>2.0</td>\n",
       "      <td>NaN</td>\n",
       "      <td>compact</td>\n",
       "      <td>coupe</td>\n",
       "      <td>33.0</td>\n",
       "      <td>24.0</td>\n",
       "      <td>1385.0</td>\n",
       "      <td>14410.0</td>\n",
       "    </tr>\n",
       "    <tr>\n",
       "      <th>6720</th>\n",
       "      <td>toyota</td>\n",
       "      <td>matrix</td>\n",
       "      <td>2012.0</td>\n",
       "      <td>regular_unleaded</td>\n",
       "      <td>132.0</td>\n",
       "      <td>4.0</td>\n",
       "      <td>automatic</td>\n",
       "      <td>front_wheel_drive</td>\n",
       "      <td>4.0</td>\n",
       "      <td>hatchback</td>\n",
       "      <td>compact</td>\n",
       "      <td>4dr_hatchback</td>\n",
       "      <td>32.0</td>\n",
       "      <td>25.0</td>\n",
       "      <td>2031.0</td>\n",
       "      <td>19685.0</td>\n",
       "    </tr>\n",
       "    <tr>\n",
       "      <th>5878</th>\n",
       "      <td>subaru</td>\n",
       "      <td>impreza</td>\n",
       "      <td>2016.0</td>\n",
       "      <td>regular_unleaded</td>\n",
       "      <td>148.0</td>\n",
       "      <td>4.0</td>\n",
       "      <td>automatic</td>\n",
       "      <td>all_wheel_drive</td>\n",
       "      <td>4.0</td>\n",
       "      <td>hatchback</td>\n",
       "      <td>compact</td>\n",
       "      <td>4dr_hatchback</td>\n",
       "      <td>37.0</td>\n",
       "      <td>28.0</td>\n",
       "      <td>640.0</td>\n",
       "      <td>19795.0</td>\n",
       "    </tr>\n",
       "    <tr>\n",
       "      <th>11190</th>\n",
       "      <td>volkswagen</td>\n",
       "      <td>vanagon</td>\n",
       "      <td>1991.0</td>\n",
       "      <td>regular_unleaded</td>\n",
       "      <td>90.0</td>\n",
       "      <td>4.0</td>\n",
       "      <td>manual</td>\n",
       "      <td>rear_wheel_drive</td>\n",
       "      <td>3.0</td>\n",
       "      <td>NaN</td>\n",
       "      <td>large</td>\n",
       "      <td>passenger_minivan</td>\n",
       "      <td>18.0</td>\n",
       "      <td>16.0</td>\n",
       "      <td>873.0</td>\n",
       "      <td>2000.0</td>\n",
       "    </tr>\n",
       "    <tr>\n",
       "      <th>4554</th>\n",
       "      <td>ford</td>\n",
       "      <td>f-150</td>\n",
       "      <td>2017.0</td>\n",
       "      <td>flex-fuel_(unleaded/e85)</td>\n",
       "      <td>385.0</td>\n",
       "      <td>8.0</td>\n",
       "      <td>automatic</td>\n",
       "      <td>four_wheel_drive</td>\n",
       "      <td>4.0</td>\n",
       "      <td>flex_fuel</td>\n",
       "      <td>large</td>\n",
       "      <td>crew_cab_pickup</td>\n",
       "      <td>21.0</td>\n",
       "      <td>15.0</td>\n",
       "      <td>5657.0</td>\n",
       "      <td>56260.0</td>\n",
       "    </tr>\n",
       "    <tr>\n",
       "      <th>...</th>\n",
       "      <td>...</td>\n",
       "      <td>...</td>\n",
       "      <td>...</td>\n",
       "      <td>...</td>\n",
       "      <td>...</td>\n",
       "      <td>...</td>\n",
       "      <td>...</td>\n",
       "      <td>...</td>\n",
       "      <td>...</td>\n",
       "      <td>...</td>\n",
       "      <td>...</td>\n",
       "      <td>...</td>\n",
       "      <td>...</td>\n",
       "      <td>...</td>\n",
       "      <td>...</td>\n",
       "      <td>...</td>\n",
       "    </tr>\n",
       "    <tr>\n",
       "      <th>11123</th>\n",
       "      <td>volvo</td>\n",
       "      <td>v60</td>\n",
       "      <td>2015.0</td>\n",
       "      <td>regular_unleaded</td>\n",
       "      <td>240.0</td>\n",
       "      <td>4.0</td>\n",
       "      <td>automatic</td>\n",
       "      <td>front_wheel_drive</td>\n",
       "      <td>4.0</td>\n",
       "      <td>luxury</td>\n",
       "      <td>midsize</td>\n",
       "      <td>wagon</td>\n",
       "      <td>37.0</td>\n",
       "      <td>25.0</td>\n",
       "      <td>870.0</td>\n",
       "      <td>35750.0</td>\n",
       "    </tr>\n",
       "    <tr>\n",
       "      <th>5549</th>\n",
       "      <td>maserati</td>\n",
       "      <td>granturismo_convertible</td>\n",
       "      <td>2015.0</td>\n",
       "      <td>premium_unleaded_(required)</td>\n",
       "      <td>444.0</td>\n",
       "      <td>8.0</td>\n",
       "      <td>automatic</td>\n",
       "      <td>rear_wheel_drive</td>\n",
       "      <td>2.0</td>\n",
       "      <td>exotic,luxury,high-performance</td>\n",
       "      <td>midsize</td>\n",
       "      <td>convertible</td>\n",
       "      <td>20.0</td>\n",
       "      <td>13.0</td>\n",
       "      <td>238.0</td>\n",
       "      <td>145740.0</td>\n",
       "    </tr>\n",
       "    <tr>\n",
       "      <th>4146</th>\n",
       "      <td>cadillac</td>\n",
       "      <td>escalade_hybrid</td>\n",
       "      <td>2013.0</td>\n",
       "      <td>regular_unleaded</td>\n",
       "      <td>332.0</td>\n",
       "      <td>8.0</td>\n",
       "      <td>automatic</td>\n",
       "      <td>rear_wheel_drive</td>\n",
       "      <td>4.0</td>\n",
       "      <td>luxury,hybrid</td>\n",
       "      <td>large</td>\n",
       "      <td>4dr_suv</td>\n",
       "      <td>23.0</td>\n",
       "      <td>20.0</td>\n",
       "      <td>1624.0</td>\n",
       "      <td>74425.0</td>\n",
       "    </tr>\n",
       "    <tr>\n",
       "      <th>6337</th>\n",
       "      <td>mitsubishi</td>\n",
       "      <td>lancer</td>\n",
       "      <td>2016.0</td>\n",
       "      <td>regular_unleaded</td>\n",
       "      <td>148.0</td>\n",
       "      <td>4.0</td>\n",
       "      <td>manual</td>\n",
       "      <td>front_wheel_drive</td>\n",
       "      <td>4.0</td>\n",
       "      <td>NaN</td>\n",
       "      <td>compact</td>\n",
       "      <td>sedan</td>\n",
       "      <td>34.0</td>\n",
       "      <td>24.0</td>\n",
       "      <td>436.0</td>\n",
       "      <td>17595.0</td>\n",
       "    </tr>\n",
       "    <tr>\n",
       "      <th>9814</th>\n",
       "      <td>kia</td>\n",
       "      <td>sorento</td>\n",
       "      <td>2015.0</td>\n",
       "      <td>regular_unleaded</td>\n",
       "      <td>290.0</td>\n",
       "      <td>6.0</td>\n",
       "      <td>automatic</td>\n",
       "      <td>front_wheel_drive</td>\n",
       "      <td>4.0</td>\n",
       "      <td>crossover</td>\n",
       "      <td>midsize</td>\n",
       "      <td>4dr_suv</td>\n",
       "      <td>25.0</td>\n",
       "      <td>18.0</td>\n",
       "      <td>1720.0</td>\n",
       "      <td>26700.0</td>\n",
       "    </tr>\n",
       "  </tbody>\n",
       "</table>\n",
       "<p>9532 rows × 16 columns</p>\n",
       "</div>"
      ],
      "text/plain": [
       "             make                    model    year  \\\n",
       "2735    chevrolet                   cobalt  2008.0   \n",
       "6720       toyota                   matrix  2012.0   \n",
       "5878       subaru                  impreza  2016.0   \n",
       "11190  volkswagen                  vanagon  1991.0   \n",
       "4554         ford                    f-150  2017.0   \n",
       "...           ...                      ...     ...   \n",
       "11123       volvo                      v60  2015.0   \n",
       "5549     maserati  granturismo_convertible  2015.0   \n",
       "4146     cadillac          escalade_hybrid  2013.0   \n",
       "6337   mitsubishi                   lancer  2016.0   \n",
       "9814          kia                  sorento  2015.0   \n",
       "\n",
       "                  engine-fuel-type  engine-hp  engine-cylinders  \\\n",
       "2735              regular_unleaded      148.0               4.0   \n",
       "6720              regular_unleaded      132.0               4.0   \n",
       "5878              regular_unleaded      148.0               4.0   \n",
       "11190             regular_unleaded       90.0               4.0   \n",
       "4554      flex-fuel_(unleaded/e85)      385.0               8.0   \n",
       "...                            ...        ...               ...   \n",
       "11123             regular_unleaded      240.0               4.0   \n",
       "5549   premium_unleaded_(required)      444.0               8.0   \n",
       "4146              regular_unleaded      332.0               8.0   \n",
       "6337              regular_unleaded      148.0               4.0   \n",
       "9814              regular_unleaded      290.0               6.0   \n",
       "\n",
       "      transmission-type      driven_wheels  number-of-doors  \\\n",
       "2735             manual  front_wheel_drive              2.0   \n",
       "6720          automatic  front_wheel_drive              4.0   \n",
       "5878          automatic    all_wheel_drive              4.0   \n",
       "11190            manual   rear_wheel_drive              3.0   \n",
       "4554          automatic   four_wheel_drive              4.0   \n",
       "...                 ...                ...              ...   \n",
       "11123         automatic  front_wheel_drive              4.0   \n",
       "5549          automatic   rear_wheel_drive              2.0   \n",
       "4146          automatic   rear_wheel_drive              4.0   \n",
       "6337             manual  front_wheel_drive              4.0   \n",
       "9814          automatic  front_wheel_drive              4.0   \n",
       "\n",
       "                      market-category vehicle-size      vehicle-style  \\\n",
       "2735                              NaN      compact              coupe   \n",
       "6720                        hatchback      compact      4dr_hatchback   \n",
       "5878                        hatchback      compact      4dr_hatchback   \n",
       "11190                             NaN        large  passenger_minivan   \n",
       "4554                        flex_fuel        large    crew_cab_pickup   \n",
       "...                               ...          ...                ...   \n",
       "11123                          luxury      midsize              wagon   \n",
       "5549   exotic,luxury,high-performance      midsize        convertible   \n",
       "4146                    luxury,hybrid        large            4dr_suv   \n",
       "6337                              NaN      compact              sedan   \n",
       "9814                        crossover      midsize            4dr_suv   \n",
       "\n",
       "       highway-mpg  city-mpg  popularity      msrp  \n",
       "2735          33.0      24.0      1385.0   14410.0  \n",
       "6720          32.0      25.0      2031.0   19685.0  \n",
       "5878          37.0      28.0       640.0   19795.0  \n",
       "11190         18.0      16.0       873.0    2000.0  \n",
       "4554          21.0      15.0      5657.0   56260.0  \n",
       "...            ...       ...         ...       ...  \n",
       "11123         37.0      25.0       870.0   35750.0  \n",
       "5549          20.0      13.0       238.0  145740.0  \n",
       "4146          23.0      20.0      1624.0   74425.0  \n",
       "6337          34.0      24.0       436.0   17595.0  \n",
       "9814          25.0      18.0      1720.0   26700.0  \n",
       "\n",
       "[9532 rows x 16 columns]"
      ]
     },
     "execution_count": 25,
     "metadata": {},
     "output_type": "execute_result"
    }
   ],
   "source": [
    "#Output the split training data\n",
    "df_train"
   ]
  },
  {
   "cell_type": "code",
   "execution_count": 26,
   "metadata": {},
   "outputs": [
    {
     "data": {
      "text/plain": [
       "(9532, 2382)"
      ]
     },
     "execution_count": 26,
     "metadata": {},
     "output_type": "execute_result"
    }
   ],
   "source": [
    "#verify the lenth of the split data\n",
    "len(df_train), len(df_val)"
   ]
  },
  {
   "cell_type": "code",
   "execution_count": 27,
   "metadata": {},
   "outputs": [],
   "source": [
    "#Reset dataset index  and  drop the previous indices\n",
    "df_train = df_train.reset_index(drop=True)\n",
    "df_val = df_val.reset_index(drop=True)"
   ]
  },
  {
   "cell_type": "code",
   "execution_count": 28,
   "metadata": {},
   "outputs": [
    {
     "data": {
      "text/html": [
       "<div>\n",
       "<style scoped>\n",
       "    .dataframe tbody tr th:only-of-type {\n",
       "        vertical-align: middle;\n",
       "    }\n",
       "\n",
       "    .dataframe tbody tr th {\n",
       "        vertical-align: top;\n",
       "    }\n",
       "\n",
       "    .dataframe thead th {\n",
       "        text-align: right;\n",
       "    }\n",
       "</style>\n",
       "<table border=\"1\" class=\"dataframe\">\n",
       "  <thead>\n",
       "    <tr style=\"text-align: right;\">\n",
       "      <th></th>\n",
       "      <th>make</th>\n",
       "      <th>model</th>\n",
       "      <th>year</th>\n",
       "      <th>engine-fuel-type</th>\n",
       "      <th>engine-hp</th>\n",
       "      <th>engine-cylinders</th>\n",
       "      <th>transmission-type</th>\n",
       "      <th>driven_wheels</th>\n",
       "      <th>number-of-doors</th>\n",
       "      <th>market-category</th>\n",
       "      <th>vehicle-size</th>\n",
       "      <th>vehicle-style</th>\n",
       "      <th>highway-mpg</th>\n",
       "      <th>city-mpg</th>\n",
       "      <th>popularity</th>\n",
       "      <th>msrp</th>\n",
       "    </tr>\n",
       "  </thead>\n",
       "  <tbody>\n",
       "    <tr>\n",
       "      <th>0</th>\n",
       "      <td>chevrolet</td>\n",
       "      <td>cobalt</td>\n",
       "      <td>2008.0</td>\n",
       "      <td>regular_unleaded</td>\n",
       "      <td>148.0</td>\n",
       "      <td>4.0</td>\n",
       "      <td>manual</td>\n",
       "      <td>front_wheel_drive</td>\n",
       "      <td>2.0</td>\n",
       "      <td>NaN</td>\n",
       "      <td>compact</td>\n",
       "      <td>coupe</td>\n",
       "      <td>33.0</td>\n",
       "      <td>24.0</td>\n",
       "      <td>1385.0</td>\n",
       "      <td>14410.0</td>\n",
       "    </tr>\n",
       "    <tr>\n",
       "      <th>1</th>\n",
       "      <td>toyota</td>\n",
       "      <td>matrix</td>\n",
       "      <td>2012.0</td>\n",
       "      <td>regular_unleaded</td>\n",
       "      <td>132.0</td>\n",
       "      <td>4.0</td>\n",
       "      <td>automatic</td>\n",
       "      <td>front_wheel_drive</td>\n",
       "      <td>4.0</td>\n",
       "      <td>hatchback</td>\n",
       "      <td>compact</td>\n",
       "      <td>4dr_hatchback</td>\n",
       "      <td>32.0</td>\n",
       "      <td>25.0</td>\n",
       "      <td>2031.0</td>\n",
       "      <td>19685.0</td>\n",
       "    </tr>\n",
       "    <tr>\n",
       "      <th>2</th>\n",
       "      <td>subaru</td>\n",
       "      <td>impreza</td>\n",
       "      <td>2016.0</td>\n",
       "      <td>regular_unleaded</td>\n",
       "      <td>148.0</td>\n",
       "      <td>4.0</td>\n",
       "      <td>automatic</td>\n",
       "      <td>all_wheel_drive</td>\n",
       "      <td>4.0</td>\n",
       "      <td>hatchback</td>\n",
       "      <td>compact</td>\n",
       "      <td>4dr_hatchback</td>\n",
       "      <td>37.0</td>\n",
       "      <td>28.0</td>\n",
       "      <td>640.0</td>\n",
       "      <td>19795.0</td>\n",
       "    </tr>\n",
       "    <tr>\n",
       "      <th>3</th>\n",
       "      <td>volkswagen</td>\n",
       "      <td>vanagon</td>\n",
       "      <td>1991.0</td>\n",
       "      <td>regular_unleaded</td>\n",
       "      <td>90.0</td>\n",
       "      <td>4.0</td>\n",
       "      <td>manual</td>\n",
       "      <td>rear_wheel_drive</td>\n",
       "      <td>3.0</td>\n",
       "      <td>NaN</td>\n",
       "      <td>large</td>\n",
       "      <td>passenger_minivan</td>\n",
       "      <td>18.0</td>\n",
       "      <td>16.0</td>\n",
       "      <td>873.0</td>\n",
       "      <td>2000.0</td>\n",
       "    </tr>\n",
       "    <tr>\n",
       "      <th>4</th>\n",
       "      <td>ford</td>\n",
       "      <td>f-150</td>\n",
       "      <td>2017.0</td>\n",
       "      <td>flex-fuel_(unleaded/e85)</td>\n",
       "      <td>385.0</td>\n",
       "      <td>8.0</td>\n",
       "      <td>automatic</td>\n",
       "      <td>four_wheel_drive</td>\n",
       "      <td>4.0</td>\n",
       "      <td>flex_fuel</td>\n",
       "      <td>large</td>\n",
       "      <td>crew_cab_pickup</td>\n",
       "      <td>21.0</td>\n",
       "      <td>15.0</td>\n",
       "      <td>5657.0</td>\n",
       "      <td>56260.0</td>\n",
       "    </tr>\n",
       "    <tr>\n",
       "      <th>...</th>\n",
       "      <td>...</td>\n",
       "      <td>...</td>\n",
       "      <td>...</td>\n",
       "      <td>...</td>\n",
       "      <td>...</td>\n",
       "      <td>...</td>\n",
       "      <td>...</td>\n",
       "      <td>...</td>\n",
       "      <td>...</td>\n",
       "      <td>...</td>\n",
       "      <td>...</td>\n",
       "      <td>...</td>\n",
       "      <td>...</td>\n",
       "      <td>...</td>\n",
       "      <td>...</td>\n",
       "      <td>...</td>\n",
       "    </tr>\n",
       "    <tr>\n",
       "      <th>9527</th>\n",
       "      <td>volvo</td>\n",
       "      <td>v60</td>\n",
       "      <td>2015.0</td>\n",
       "      <td>regular_unleaded</td>\n",
       "      <td>240.0</td>\n",
       "      <td>4.0</td>\n",
       "      <td>automatic</td>\n",
       "      <td>front_wheel_drive</td>\n",
       "      <td>4.0</td>\n",
       "      <td>luxury</td>\n",
       "      <td>midsize</td>\n",
       "      <td>wagon</td>\n",
       "      <td>37.0</td>\n",
       "      <td>25.0</td>\n",
       "      <td>870.0</td>\n",
       "      <td>35750.0</td>\n",
       "    </tr>\n",
       "    <tr>\n",
       "      <th>9528</th>\n",
       "      <td>maserati</td>\n",
       "      <td>granturismo_convertible</td>\n",
       "      <td>2015.0</td>\n",
       "      <td>premium_unleaded_(required)</td>\n",
       "      <td>444.0</td>\n",
       "      <td>8.0</td>\n",
       "      <td>automatic</td>\n",
       "      <td>rear_wheel_drive</td>\n",
       "      <td>2.0</td>\n",
       "      <td>exotic,luxury,high-performance</td>\n",
       "      <td>midsize</td>\n",
       "      <td>convertible</td>\n",
       "      <td>20.0</td>\n",
       "      <td>13.0</td>\n",
       "      <td>238.0</td>\n",
       "      <td>145740.0</td>\n",
       "    </tr>\n",
       "    <tr>\n",
       "      <th>9529</th>\n",
       "      <td>cadillac</td>\n",
       "      <td>escalade_hybrid</td>\n",
       "      <td>2013.0</td>\n",
       "      <td>regular_unleaded</td>\n",
       "      <td>332.0</td>\n",
       "      <td>8.0</td>\n",
       "      <td>automatic</td>\n",
       "      <td>rear_wheel_drive</td>\n",
       "      <td>4.0</td>\n",
       "      <td>luxury,hybrid</td>\n",
       "      <td>large</td>\n",
       "      <td>4dr_suv</td>\n",
       "      <td>23.0</td>\n",
       "      <td>20.0</td>\n",
       "      <td>1624.0</td>\n",
       "      <td>74425.0</td>\n",
       "    </tr>\n",
       "    <tr>\n",
       "      <th>9530</th>\n",
       "      <td>mitsubishi</td>\n",
       "      <td>lancer</td>\n",
       "      <td>2016.0</td>\n",
       "      <td>regular_unleaded</td>\n",
       "      <td>148.0</td>\n",
       "      <td>4.0</td>\n",
       "      <td>manual</td>\n",
       "      <td>front_wheel_drive</td>\n",
       "      <td>4.0</td>\n",
       "      <td>NaN</td>\n",
       "      <td>compact</td>\n",
       "      <td>sedan</td>\n",
       "      <td>34.0</td>\n",
       "      <td>24.0</td>\n",
       "      <td>436.0</td>\n",
       "      <td>17595.0</td>\n",
       "    </tr>\n",
       "    <tr>\n",
       "      <th>9531</th>\n",
       "      <td>kia</td>\n",
       "      <td>sorento</td>\n",
       "      <td>2015.0</td>\n",
       "      <td>regular_unleaded</td>\n",
       "      <td>290.0</td>\n",
       "      <td>6.0</td>\n",
       "      <td>automatic</td>\n",
       "      <td>front_wheel_drive</td>\n",
       "      <td>4.0</td>\n",
       "      <td>crossover</td>\n",
       "      <td>midsize</td>\n",
       "      <td>4dr_suv</td>\n",
       "      <td>25.0</td>\n",
       "      <td>18.0</td>\n",
       "      <td>1720.0</td>\n",
       "      <td>26700.0</td>\n",
       "    </tr>\n",
       "  </tbody>\n",
       "</table>\n",
       "<p>9532 rows × 16 columns</p>\n",
       "</div>"
      ],
      "text/plain": [
       "            make                    model    year  \\\n",
       "0      chevrolet                   cobalt  2008.0   \n",
       "1         toyota                   matrix  2012.0   \n",
       "2         subaru                  impreza  2016.0   \n",
       "3     volkswagen                  vanagon  1991.0   \n",
       "4           ford                    f-150  2017.0   \n",
       "...          ...                      ...     ...   \n",
       "9527       volvo                      v60  2015.0   \n",
       "9528    maserati  granturismo_convertible  2015.0   \n",
       "9529    cadillac          escalade_hybrid  2013.0   \n",
       "9530  mitsubishi                   lancer  2016.0   \n",
       "9531         kia                  sorento  2015.0   \n",
       "\n",
       "                 engine-fuel-type  engine-hp  engine-cylinders  \\\n",
       "0                regular_unleaded      148.0               4.0   \n",
       "1                regular_unleaded      132.0               4.0   \n",
       "2                regular_unleaded      148.0               4.0   \n",
       "3                regular_unleaded       90.0               4.0   \n",
       "4        flex-fuel_(unleaded/e85)      385.0               8.0   \n",
       "...                           ...        ...               ...   \n",
       "9527             regular_unleaded      240.0               4.0   \n",
       "9528  premium_unleaded_(required)      444.0               8.0   \n",
       "9529             regular_unleaded      332.0               8.0   \n",
       "9530             regular_unleaded      148.0               4.0   \n",
       "9531             regular_unleaded      290.0               6.0   \n",
       "\n",
       "     transmission-type      driven_wheels  number-of-doors  \\\n",
       "0               manual  front_wheel_drive              2.0   \n",
       "1            automatic  front_wheel_drive              4.0   \n",
       "2            automatic    all_wheel_drive              4.0   \n",
       "3               manual   rear_wheel_drive              3.0   \n",
       "4            automatic   four_wheel_drive              4.0   \n",
       "...                ...                ...              ...   \n",
       "9527         automatic  front_wheel_drive              4.0   \n",
       "9528         automatic   rear_wheel_drive              2.0   \n",
       "9529         automatic   rear_wheel_drive              4.0   \n",
       "9530            manual  front_wheel_drive              4.0   \n",
       "9531         automatic  front_wheel_drive              4.0   \n",
       "\n",
       "                     market-category vehicle-size      vehicle-style  \\\n",
       "0                                NaN      compact              coupe   \n",
       "1                          hatchback      compact      4dr_hatchback   \n",
       "2                          hatchback      compact      4dr_hatchback   \n",
       "3                                NaN        large  passenger_minivan   \n",
       "4                          flex_fuel        large    crew_cab_pickup   \n",
       "...                              ...          ...                ...   \n",
       "9527                          luxury      midsize              wagon   \n",
       "9528  exotic,luxury,high-performance      midsize        convertible   \n",
       "9529                   luxury,hybrid        large            4dr_suv   \n",
       "9530                             NaN      compact              sedan   \n",
       "9531                       crossover      midsize            4dr_suv   \n",
       "\n",
       "      highway-mpg  city-mpg  popularity      msrp  \n",
       "0            33.0      24.0      1385.0   14410.0  \n",
       "1            32.0      25.0      2031.0   19685.0  \n",
       "2            37.0      28.0       640.0   19795.0  \n",
       "3            18.0      16.0       873.0    2000.0  \n",
       "4            21.0      15.0      5657.0   56260.0  \n",
       "...           ...       ...         ...       ...  \n",
       "9527         37.0      25.0       870.0   35750.0  \n",
       "9528         20.0      13.0       238.0  145740.0  \n",
       "9529         23.0      20.0      1624.0   74425.0  \n",
       "9530         34.0      24.0       436.0   17595.0  \n",
       "9531         25.0      18.0      1720.0   26700.0  \n",
       "\n",
       "[9532 rows x 16 columns]"
      ]
     },
     "execution_count": 28,
     "metadata": {},
     "output_type": "execute_result"
    }
   ],
   "source": [
    "df_train"
   ]
  },
  {
   "cell_type": "code",
   "execution_count": 29,
   "metadata": {},
   "outputs": [],
   "source": [
    "# Perform logarithmic transformation on the target variable for the training, valuation and test dataset\n",
    "y_train = np.log1p(df_train.msrp.values)\n",
    "y_val = np.log1p(df_val.msrp.values)"
   ]
  },
  {
   "cell_type": "code",
   "execution_count": 30,
   "metadata": {},
   "outputs": [],
   "source": [
    "# delete the target variable from the dataset to avoid accidentally using it as a feature\n",
    "del df_train['msrp']\n",
    "del df_val[\"msrp\"]"
   ]
  },
  {
   "cell_type": "markdown",
   "metadata": {},
   "source": [
    "## Training the linear regression model\n",
    "Linear regression is a fundamental statistical technique used to model the relationship between a dependent variable (target) and one or more independent variables (predictors). It assumes a linear relationship between the predictor(s) and the target variable.\n",
    "\n",
    "The linear regression model is represented by the equation:\n",
    "\n",
    "**y = w0 + w1x1 + w2x2 +w3x3.....wnxn**\n",
    "\n",
    "Where:\n",
    "\n",
    "- y is the dependent variable (target).\n",
    "\n",
    "- x1, x2, x3,...,xn are the independent variables (predictors).\n",
    "\n",
    "- w0 is the intercept term.\n",
    "\n",
    "- w1,w2,w3,....,wn are the coefficients (parameters) that represent the change in the target variable for a unit change in the corresponding predictor.\n",
    "\n",
    "- ε is the error term, representing the discrepancy between the observed and predicted values.\n",
    "\n",
    "The goal of linear regression is to estimate the coefficients \n",
    "that minimize the sum of squared residuals (errors) between the observed and predicted values. This process is typically done using the method of least squares.\n",
    "\n",
    "### Applying Linear Regression to the Car Prediction Model\n",
    "\n",
    "We already established that MSRP is the target variable AKA (y)\n",
    "w0 is the baseline, the y intercept in simpler terms, its the value of y when x is 0. For our case, the price of a car when there are no predictors AKA features influencing the price.\n",
    "x are our features.. and since Linear regression is for solving numeric problems in ML models, we will use just the numeric features to train this model(run code \"df_train.dtypes\") The features are: engine-fuel-type\n",
    "engine-hp, engine-cylinders, number-of-doors, highway-mpg ,city-mpg ,popularity\n",
    "\n",
    "for our model:\n",
    "**g(X) = Xw ≈ y** To mean feeding our model g with features x should be able to predic the y.   \n",
    "\n",
    "X represents all our features in this case.\n",
    "\n",
    "so Xw ≈ y\n",
    "\n",
    "we multiply both sides by X tranpose(We're trying to get to an Identity matrix so that we can find an equation for finding w. NB: If our X was a square matrix, multiplying by its inverse would be ennough, but in our case there are definetely more rows  than columns so we'll work with the Transpose that will help us find the parametres that minizes the sum f squared errors between predicted values and actual values of the target variable)\n",
    "\n",
    "XTXw = XTy\n",
    "\n",
    "We further break down the equation by multiplying XTX by its inverse to get an identity matrix ( a square matrix whose diagonal elements are +1 and all other elements = 0, you multiply it by another matrix it leaves the matrix unchanged)\n",
    "\n",
    "(XTX)-1 *XTXw = (XTX)-1*XTy NB* -1 denotes inverse and whatever you do on the left side also do to the right side of the equation.\n",
    "\n",
    "You multiply a number by its inverse the result is 1 which leaves us with w on the left side\n",
    "\n",
    "so we have:\n",
    "**w = (XTX)-1*XTy** and  This is our equation.\n",
    "\n",
    "This equation gives us the values of w that minimize the sum of squared errors between the predicted and actual values of \n",
    "y.\n",
    " \n",
    "Now, let's write code to train the model using linear regression.\n"
   ]
  },
  {
   "cell_type": "code",
   "execution_count": 31,
   "metadata": {},
   "outputs": [],
   "source": [
    "# Funtion to train the model\n",
    "def train_linear_regression(X, y):\n",
    "    #Find X transpose and use dot() funtion to multiply it to X\n",
    "    XTX = X.T.dot(X)\n",
    "    #Find the inverse of XTX\n",
    "    XTX_inv = np.linalg.inv(XTX)\n",
    "    #Find the list of weights w\n",
    "    w_full = XTX_inv.dot(X.T).dot(y)\n",
    "    #Return w0 and the rest of the weights as a tuple\n",
    "    return w_full[0], w_full[1:]"
   ]
  },
  {
   "cell_type": "code",
   "execution_count": 32,
   "metadata": {},
   "outputs": [],
   "source": [
    "# Get the numeric features for training the model\n",
    "base = [\"engine-hp\", \"engine-cylinders\", \"highway-mpg\", \"city-mpg\", \"popularity\"]\n",
    "X_train = df_train[base].values\n",
    "# Add a column of ones for the intercept term\n",
    "X_train = np.column_stack([np.ones((X_train.shape[0], 1)), X_train])\n",
    "# Train the linear regression model\n",
    "w0, w = train_linear_regression(X_train, y_train)\n",
    "\n",
    "# Calculate the predicted values\n",
    "y_pred = X_train.dot(np.hstack([w0, w]))"
   ]
  },
  {
   "cell_type": "code",
   "execution_count": 33,
   "metadata": {},
   "outputs": [
    {
     "name": "stderr",
     "output_type": "stream",
     "text": [
      "c:\\Users\\Zeetracker\\anaconda3\\Lib\\site-packages\\seaborn\\_oldcore.py:1119: FutureWarning: use_inf_as_na option is deprecated and will be removed in a future version. Convert inf values to NaN before operating instead.\n",
      "  with pd.option_context('mode.use_inf_as_na', True):\n",
      "c:\\Users\\Zeetracker\\anaconda3\\Lib\\site-packages\\seaborn\\_oldcore.py:1119: FutureWarning: use_inf_as_na option is deprecated and will be removed in a future version. Convert inf values to NaN before operating instead.\n",
      "  with pd.option_context('mode.use_inf_as_na', True):\n"
     ]
    },
    {
     "data": {
      "text/plain": [
       "<Axes: ylabel='Count'>"
      ]
     },
     "execution_count": 33,
     "metadata": {},
     "output_type": "execute_result"
    },
    {
     "data": {
      "image/png": "[encoded data removed]",
      "text/plain": [
       "<Figure size 640x480 with 1 Axes>"
      ]
     },
     "metadata": {},
     "output_type": "display_data"
    }
   ],
   "source": [
    "#Plot the predicted values alongside the original data \n",
    "#This is done to visualize the models predictions compared to the actual target values\n",
    "sns.histplot(y_pred, color ='red', alpha= 0.5, bins=50)\n",
    "sns.histplot(y_train, color ='blue', alpha=0.5, bins=50)"
   ]
  },
  {
   "cell_type": "markdown",
   "metadata": {},
   "source": [
    "\n",
    "The histogram plot generated above visualizes the differences between the model's predictions and the actual target values.\n",
    "\n",
    "**Observations**\n",
    "\n",
    "- The model has a symetrical distribution, however it ignores the first values\n",
    "\n",
    "- The curve in the histogram is consistently lower than the target. This indicates that the model tends to underestimate the target variable across the dataset.\n",
    "\n",
    "This systematic bias towards underestimation suggests a need for further investigation into the factors contributing to this.\n",
    "\n",
    "We will use the Root mean squared error(RMSE)metric to quantify the extent of the model's error.\n",
    "\n",
    "**Important Assumption: Model is unfit for use*\n"
   ]
  },
  {
   "cell_type": "markdown",
   "metadata": {},
   "source": [
    "## Root Mean Squared Error\n",
    "\n",
    "We will evaluate the model's performance using RMSE metrics.\n",
    "\n",
    "We do this to quantify the extent of our model's unfitness\n",
    "\n",
    "Calculated as the squareroot f the mean of the squared difference between predicted and actual values.\n",
    "\n",
    "*N/B A lower RMSE is better than a higher one and RSME is sensitive to outliers*\n"
   ]
  },
  {
   "cell_type": "code",
   "execution_count": 34,
   "metadata": {},
   "outputs": [],
   "source": [
    "def rmse(y, y_pred):\n",
    "    se = (y-y_pred) ** 2\n",
    "    mse = se.mean()\n",
    "    return np.sqrt(mse)"
   ]
  },
  {
   "cell_type": "code",
   "execution_count": 35,
   "metadata": {},
   "outputs": [
    {
     "data": {
      "text/plain": [
       "0.7553875745654345"
      ]
     },
     "execution_count": 35,
     "metadata": {},
     "output_type": "execute_result"
    }
   ],
   "source": [
    "rmse(y_train, y_pred)"
   ]
  },
  {
   "cell_type": "markdown",
   "metadata": {},
   "source": [
    "The model is off by 75%"
   ]
  },
  {
   "cell_type": "markdown",
   "metadata": {},
   "source": [
    "## Validating the model\n",
    "We further validate the model by using the validation data"
   ]
  },
  {
   "cell_type": "code",
   "execution_count": 36,
   "metadata": {},
   "outputs": [
    {
     "data": {
      "text/plain": [
       "0.7265347646126024"
      ]
     },
     "execution_count": 36,
     "metadata": {},
     "output_type": "execute_result"
    }
   ],
   "source": [
    "\n",
    "base = [\"engine-hp\", \"engine-cylinders\", \"highway-mpg\", \"city-mpg\", \"popularity\"]\n",
    "X_val = df_val[base].values\n",
    "# Add a column of ones for the intercept term\n",
    "X_val = np.column_stack([np.ones((X_val.shape[0], 1)), X_val])\n",
    "# Train the linear regression model\n",
    "w0, w = train_linear_regression(X_val, y_val)\n",
    "\n",
    "# Calculate the predicted values\n",
    "y_pred = X_val.dot(np.hstack([w0, w]))\n",
    "\n",
    "rmse(y_val, y_pred)"
   ]
  },
  {
   "cell_type": "markdown",
   "metadata": {},
   "source": [
    "Given that the model performs poorly on both the training and validation datasets (with RMSE values of 75% and 72% respectively), it suggests that the model is likely underfitting. Underfitting occurs when the model is too simple to capture the underlying patterns and relationships in the data, resulting in poor performance on both the training and validation/test datasets.\n",
    "\n",
    "One possible reason for underfitting could be that the model fails to adequately capture the complexities of the relationship between car prices and the features used for prediction. In our case, it appears that not only numerical features but also categorical features such as the model of the car, its age, driven wheel, etc., might influence car prices. Therefore, it's essential to incorporate these categorical features into the modeling process.\n",
    "\n",
    "This observation leads us to the next step, which is feature engineering. Feature engineering involves transforming raw data into meaningful features that can improve model performance.\n",
    "\n",
    "\n"
   ]
  },
  {
   "cell_type": "markdown",
   "metadata": {},
   "source": [
    "## Feature Engineering\n",
    "\n",
    "Feature engineering is a crucial step in the machine learning pipeline where we create new features or transform existing ones to enhance the predictive power of our model. It involves extracting meaningful information from the raw data to better represent the underlying relationships and patterns.\n",
    "\n",
    "We begin by creating a new feature called \"age,\" which represents the age of the car. We calculate it by subtracting the manufacturing year of each car from the latest year in our dataset (2017). This new feature provides valuable information about the car's age, which could influence its price.\n",
    "\n",
    "Our dataset contains several categorical variables such as car model, make, market category, transmission type, number of doors, vehicle size, vehicle style, and driven wheels.\n",
    "\n",
    "To incorporate these categorical features into our model, we employ the target encoding technique. This process assigns numerical values to categories based on the target variable's mean or median, allowing us to represent categorical data in a numerical format suitable for machine learning algorithms.\n",
    "\n",
    "We use target encoding to encode each categorical variable and add the encoded features to our feature set.\n"
   ]
  },
  {
   "cell_type": "code",
   "execution_count": 37,
   "metadata": {},
   "outputs": [
    {
     "data": {
      "text/plain": [
       "0        9.0\n",
       "1        5.0\n",
       "2        1.0\n",
       "3       26.0\n",
       "4        0.0\n",
       "        ... \n",
       "9527     2.0\n",
       "9528     2.0\n",
       "9529     4.0\n",
       "9530     1.0\n",
       "9531     2.0\n",
       "Name: year, Length: 9532, dtype: float64"
      ]
     },
     "execution_count": 37,
     "metadata": {},
     "output_type": "execute_result"
    }
   ],
   "source": [
    "# Create a new feature age by subtracting the  year from the latest year(When dataset was collected)\n",
    "\n",
    "2017 - df_train.year\n"
   ]
  },
  {
   "cell_type": "code",
   "execution_count": 38,
   "metadata": {},
   "outputs": [],
   "source": [
    "# Function for adding age onto the dataset\n",
    "def prepare_X(df):\n",
    "    df = df.copy()\n",
    "    df[\"age\"] = 2017 - df_train.year\n",
    "    features = base + ['age']\n",
    "    df_num = df[features]\n",
    "    X = df_num.values\n",
    "    return X"
   ]
  },
  {
   "cell_type": "code",
   "execution_count": 39,
   "metadata": {},
   "outputs": [
    {
     "data": {
      "text/plain": [
       "make                  object\n",
       "model                 object\n",
       "year                 float64\n",
       "engine-fuel-type      object\n",
       "engine-hp            float64\n",
       "engine-cylinders     float64\n",
       "transmission-type     object\n",
       "driven_wheels         object\n",
       "number-of-doors      float64\n",
       "market-category       object\n",
       "vehicle-size          object\n",
       "vehicle-style         object\n",
       "highway-mpg          float64\n",
       "city-mpg             float64\n",
       "popularity           float64\n",
       "dtype: object"
      ]
     },
     "execution_count": 39,
     "metadata": {},
     "output_type": "execute_result"
    }
   ],
   "source": [
    "df_train.dtypes"
   ]
  },
  {
   "cell_type": "code",
   "execution_count": 40,
   "metadata": {},
   "outputs": [
    {
     "data": {
      "text/plain": [
       "0.5105229225595562"
      ]
     },
     "execution_count": 40,
     "metadata": {},
     "output_type": "execute_result"
    }
   ],
   "source": [
    "\n",
    "X_train = prepare_X(df_train)\n",
    "# Add a column of ones for the intercept term\n",
    "X_train = np.column_stack([np.ones((X_train.shape[0], 1)), X_train])\n",
    "# Train the linear regression model\n",
    "w0, w = train_linear_regression(X_train, y_train)\n",
    "\n",
    "# Calculate the predicted values\n",
    "y_pred = X_train.dot(np.hstack([w0, w]))\n",
    "\n",
    "rmse(y_train, y_pred)"
   ]
  },
  {
   "cell_type": "markdown",
   "metadata": {},
   "source": [
    "After incorporating the 'car_age' feature, the model's performance notably improved, with the Root Mean Squared Error (RMSE) decreasing to 51%. This enhancement suggests that considering the age of the car as a predictor variable has contributed to better capturing the underlying patterns in car prices.\n",
    "\n",
    "We'll further improve the model by Incorporating more categorical features, But first We visualize the changes using a histogram plot.\n",
    "\n"
   ]
  },
  {
   "cell_type": "code",
   "execution_count": 41,
   "metadata": {},
   "outputs": [
    {
     "name": "stderr",
     "output_type": "stream",
     "text": [
      "c:\\Users\\Zeetracker\\anaconda3\\Lib\\site-packages\\seaborn\\_oldcore.py:1119: FutureWarning: use_inf_as_na option is deprecated and will be removed in a future version. Convert inf values to NaN before operating instead.\n",
      "  with pd.option_context('mode.use_inf_as_na', True):\n",
      "c:\\Users\\Zeetracker\\anaconda3\\Lib\\site-packages\\seaborn\\_oldcore.py:1119: FutureWarning: use_inf_as_na option is deprecated and will be removed in a future version. Convert inf values to NaN before operating instead.\n",
      "  with pd.option_context('mode.use_inf_as_na', True):\n"
     ]
    },
    {
     "data": {
      "text/plain": [
       "<Axes: ylabel='Count'>"
      ]
     },
     "execution_count": 41,
     "metadata": {},
     "output_type": "execute_result"
    },
    {
     "data": {
      "image/png": "[encoded data removed]",
      "text/plain": [
       "<Figure size 640x480 with 1 Axes>"
      ]
     },
     "metadata": {},
     "output_type": "display_data"
    }
   ],
   "source": [
    "# Plot the predicted values alongside the original data\n",
    "# This is done to visualize the models predictions compared to the actual target values\n",
    "sns.histplot(y_pred, color=\"red\", alpha=0.5, bins=50)\n",
    "sns.histplot(y_train, color=\"blue\", alpha=0.5, bins=50)"
   ]
  },
  {
   "cell_type": "markdown",
   "metadata": {},
   "source": [
    "Feature engineering is an iterative process, and we continuously refine and enhance our features based on insights gained from exploratory data analysis and model evaluation.\n",
    "In the next step we encode the car models and add that as a feature"
   ]
  },
  {
   "cell_type": "code",
   "execution_count": 42,
   "metadata": {},
   "outputs": [],
   "source": [
    "# Function for preparing features with the  model encoded model\n",
    "def prepare_X(df, encoder):\n",
    "    df = df.copy()\n",
    "    df[\"age\"] = 2017 - df_train.year\n",
    "    features = base + ['age']\n",
    "\n",
    "    df[\"encoded_model\"] = encoder.transform(df[\"model\"])\n",
    "    # Append the encoded model feature to the base features list\n",
    "    features = features + [\"encoded_model\"]\n",
    "    df_num = df[features]\n",
    "    X = df_num.values\n",
    "    return X"
   ]
  },
  {
   "cell_type": "code",
   "execution_count": 43,
   "metadata": {},
   "outputs": [
    {
     "data": {
      "text/html": [
       "<style>#sk-container-id-1 {color: black;background-color: white;}#sk-container-id-1 pre{padding: 0;}#sk-container-id-1 div.sk-toggleable {background-color: white;}#sk-container-id-1 label.sk-toggleable__label {cursor: pointer;display: block;width: 100%;margin-bottom: 0;padding: 0.3em;box-sizing: border-box;text-align: center;}#sk-container-id-1 label.sk-toggleable__label-arrow:before {content: \"▸\";float: left;margin-right: 0.25em;color: #696969;}#sk-container-id-1 label.sk-toggleable__label-arrow:hover:before {color: black;}#sk-container-id-1 div.sk-estimator:hover label.sk-toggleable__label-arrow:before {color: black;}#sk-container-id-1 div.sk-toggleable__content {max-height: 0;max-width: 0;overflow: hidden;text-align: left;background-color: #f0f8ff;}#sk-container-id-1 div.sk-toggleable__content pre {margin: 0.2em;color: black;border-radius: 0.25em;background-color: #f0f8ff;}#sk-container-id-1 input.sk-toggleable__control:checked~div.sk-toggleable__content {max-height: 200px;max-width: 100%;overflow: auto;}#sk-container-id-1 input.sk-toggleable__control:checked~label.sk-toggleable__label-arrow:before {content: \"▾\";}#sk-container-id-1 div.sk-estimator input.sk-toggleable__control:checked~label.sk-toggleable__label {background-color: #d4ebff;}#sk-container-id-1 div.sk-label input.sk-toggleable__control:checked~label.sk-toggleable__label {background-color: #d4ebff;}#sk-container-id-1 input.sk-hidden--visually {border: 0;clip: rect(1px 1px 1px 1px);clip: rect(1px, 1px, 1px, 1px);height: 1px;margin: -1px;overflow: hidden;padding: 0;position: absolute;width: 1px;}#sk-container-id-1 div.sk-estimator {font-family: monospace;background-color: #f0f8ff;border: 1px dotted black;border-radius: 0.25em;box-sizing: border-box;margin-bottom: 0.5em;}#sk-container-id-1 div.sk-estimator:hover {background-color: #d4ebff;}#sk-container-id-1 div.sk-parallel-item::after {content: \"\";width: 100%;border-bottom: 1px solid gray;flex-grow: 1;}#sk-container-id-1 div.sk-label:hover label.sk-toggleable__label {background-color: #d4ebff;}#sk-container-id-1 div.sk-serial::before {content: \"\";position: absolute;border-left: 1px solid gray;box-sizing: border-box;top: 0;bottom: 0;left: 50%;z-index: 0;}#sk-container-id-1 div.sk-serial {display: flex;flex-direction: column;align-items: center;background-color: white;padding-right: 0.2em;padding-left: 0.2em;position: relative;}#sk-container-id-1 div.sk-item {position: relative;z-index: 1;}#sk-container-id-1 div.sk-parallel {display: flex;align-items: stretch;justify-content: center;background-color: white;position: relative;}#sk-container-id-1 div.sk-item::before, #sk-container-id-1 div.sk-parallel-item::before {content: \"\";position: absolute;border-left: 1px solid gray;box-sizing: border-box;top: 0;bottom: 0;left: 50%;z-index: -1;}#sk-container-id-1 div.sk-parallel-item {display: flex;flex-direction: column;z-index: 1;position: relative;background-color: white;}#sk-container-id-1 div.sk-parallel-item:first-child::after {align-self: flex-end;width: 50%;}#sk-container-id-1 div.sk-parallel-item:last-child::after {align-self: flex-start;width: 50%;}#sk-container-id-1 div.sk-parallel-item:only-child::after {width: 0;}#sk-container-id-1 div.sk-dashed-wrapped {border: 1px dashed gray;margin: 0 0.4em 0.5em 0.4em;box-sizing: border-box;padding-bottom: 0.4em;background-color: white;}#sk-container-id-1 div.sk-label label {font-family: monospace;font-weight: bold;display: inline-block;line-height: 1.2em;}#sk-container-id-1 div.sk-label-container {text-align: center;}#sk-container-id-1 div.sk-container {/* jupyter's `normalize.less` sets `[hidden] { display: none; }` but bootstrap.min.css set `[hidden] { display: none !important; }` so we also need the `!important` here to be able to override the default hidden behavior on the sphinx rendered scikit-learn.org. See: https://github.com/scikit-learn/scikit-learn/issues/21755 */display: inline-block !important;position: relative;}#sk-container-id-1 div.sk-text-repr-fallback {display: none;}</style><div id=\"sk-container-id-1\" class=\"sk-top-container\"><div class=\"sk-text-repr-fallback\"><pre>TargetEncoder(cols=[&#x27;model&#x27;])</pre><b>In a Jupyter environment, please rerun this cell to show the HTML representation or trust the notebook. <br />On GitHub, the HTML representation is unable to render, please try loading this page with nbviewer.org.</b></div><div class=\"sk-container\" hidden><div class=\"sk-item\"><div class=\"sk-estimator sk-toggleable\"><input class=\"sk-toggleable__control sk-hidden--visually\" id=\"sk-estimator-id-1\" type=\"checkbox\" checked><label for=\"sk-estimator-id-1\" class=\"sk-toggleable__label sk-toggleable__label-arrow\">TargetEncoder</label><div class=\"sk-toggleable__content\"><pre>TargetEncoder(cols=[&#x27;model&#x27;])</pre></div></div></div></div></div>"
      ],
      "text/plain": [
       "TargetEncoder(cols=['model'])"
      ]
     },
     "execution_count": 43,
     "metadata": {},
     "output_type": "execute_result"
    }
   ],
   "source": [
    "import category_encoders as ce\n",
    "\n",
    "# Initializing a TargetEncoder object for the 'model' column\n",
    "encoder = ce.TargetEncoder(cols=[\"model\"])\n",
    "\n",
    "# Fit the encoder on the training data\n",
    "encoder.fit(df_train[\"model\"], y_train)"
   ]
  },
  {
   "cell_type": "code",
   "execution_count": 44,
   "metadata": {},
   "outputs": [
    {
     "data": {
      "text/plain": [
       "0.4509851729927159"
      ]
     },
     "execution_count": 44,
     "metadata": {},
     "output_type": "execute_result"
    }
   ],
   "source": [
    "X_train = prepare_X(df_train, encoder)\n",
    "# Add a column of ones for the intercept term\n",
    "X_train = np.column_stack([np.ones((X_train.shape[0], 1)), X_train])\n",
    "# Train the linear regression model\n",
    "w0, w = train_linear_regression(X_train, y_train)\n",
    "\n",
    "# Calculate the predicted values\n",
    "y_pred = X_train.dot(np.hstack([w0, w]))\n",
    "\n",
    "rmse(y_train, y_pred)"
   ]
  },
  {
   "cell_type": "markdown",
   "metadata": {},
   "source": [
    "After including the car model as a predictor variable, the model's performance demonstrated improvement. The Root Mean Squared Error (RMSE) decreased from 51 to 45, signifying an enhancement in the model's predictive accuracy for car prices.\n",
    "\n",
    "However, despite the improvement, the model's performance still indicates that it is not yet optimal. To address this, we will incorporate additional features to further enhance the model's predictive capability.\n"
   ]
  },
  {
   "cell_type": "code",
   "execution_count": 45,
   "metadata": {},
   "outputs": [],
   "source": [
    "\n",
    "# Function for preparing features with the encoded make model\n",
    "\n",
    "def prepare_X(df, encoder, make_encoder):\n",
    "    df = df.copy()\n",
    "    df[\"age\"] = 2017 - df_train.year\n",
    "    features = base + [\"age\"]\n",
    "\n",
    "    df[\"encoded_model\"] = encoder.transform(df[\"model\"])\n",
    "    # Append the encoded model feature to the base features list\n",
    "    features = features + [\"encoded_model\"]\n",
    "    df[\"encoded_make\"] = make_encoder.transform(df[\"make\"])\n",
    "    new_features = features + [\"encoded_make\"]\n",
    "    df_num = df[new_features]\n",
    "    X = df_num.values\n",
    "    return X"
   ]
  },
  {
   "cell_type": "code",
   "execution_count": 46,
   "metadata": {},
   "outputs": [
    {
     "data": {
      "text/html": [
       "<style>#sk-container-id-2 {color: black;background-color: white;}#sk-container-id-2 pre{padding: 0;}#sk-container-id-2 div.sk-toggleable {background-color: white;}#sk-container-id-2 label.sk-toggleable__label {cursor: pointer;display: block;width: 100%;margin-bottom: 0;padding: 0.3em;box-sizing: border-box;text-align: center;}#sk-container-id-2 label.sk-toggleable__label-arrow:before {content: \"▸\";float: left;margin-right: 0.25em;color: #696969;}#sk-container-id-2 label.sk-toggleable__label-arrow:hover:before {color: black;}#sk-container-id-2 div.sk-estimator:hover label.sk-toggleable__label-arrow:before {color: black;}#sk-container-id-2 div.sk-toggleable__content {max-height: 0;max-width: 0;overflow: hidden;text-align: left;background-color: #f0f8ff;}#sk-container-id-2 div.sk-toggleable__content pre {margin: 0.2em;color: black;border-radius: 0.25em;background-color: #f0f8ff;}#sk-container-id-2 input.sk-toggleable__control:checked~div.sk-toggleable__content {max-height: 200px;max-width: 100%;overflow: auto;}#sk-container-id-2 input.sk-toggleable__control:checked~label.sk-toggleable__label-arrow:before {content: \"▾\";}#sk-container-id-2 div.sk-estimator input.sk-toggleable__control:checked~label.sk-toggleable__label {background-color: #d4ebff;}#sk-container-id-2 div.sk-label input.sk-toggleable__control:checked~label.sk-toggleable__label {background-color: #d4ebff;}#sk-container-id-2 input.sk-hidden--visually {border: 0;clip: rect(1px 1px 1px 1px);clip: rect(1px, 1px, 1px, 1px);height: 1px;margin: -1px;overflow: hidden;padding: 0;position: absolute;width: 1px;}#sk-container-id-2 div.sk-estimator {font-family: monospace;background-color: #f0f8ff;border: 1px dotted black;border-radius: 0.25em;box-sizing: border-box;margin-bottom: 0.5em;}#sk-container-id-2 div.sk-estimator:hover {background-color: #d4ebff;}#sk-container-id-2 div.sk-parallel-item::after {content: \"\";width: 100%;border-bottom: 1px solid gray;flex-grow: 1;}#sk-container-id-2 div.sk-label:hover label.sk-toggleable__label {background-color: #d4ebff;}#sk-container-id-2 div.sk-serial::before {content: \"\";position: absolute;border-left: 1px solid gray;box-sizing: border-box;top: 0;bottom: 0;left: 50%;z-index: 0;}#sk-container-id-2 div.sk-serial {display: flex;flex-direction: column;align-items: center;background-color: white;padding-right: 0.2em;padding-left: 0.2em;position: relative;}#sk-container-id-2 div.sk-item {position: relative;z-index: 1;}#sk-container-id-2 div.sk-parallel {display: flex;align-items: stretch;justify-content: center;background-color: white;position: relative;}#sk-container-id-2 div.sk-item::before, #sk-container-id-2 div.sk-parallel-item::before {content: \"\";position: absolute;border-left: 1px solid gray;box-sizing: border-box;top: 0;bottom: 0;left: 50%;z-index: -1;}#sk-container-id-2 div.sk-parallel-item {display: flex;flex-direction: column;z-index: 1;position: relative;background-color: white;}#sk-container-id-2 div.sk-parallel-item:first-child::after {align-self: flex-end;width: 50%;}#sk-container-id-2 div.sk-parallel-item:last-child::after {align-self: flex-start;width: 50%;}#sk-container-id-2 div.sk-parallel-item:only-child::after {width: 0;}#sk-container-id-2 div.sk-dashed-wrapped {border: 1px dashed gray;margin: 0 0.4em 0.5em 0.4em;box-sizing: border-box;padding-bottom: 0.4em;background-color: white;}#sk-container-id-2 div.sk-label label {font-family: monospace;font-weight: bold;display: inline-block;line-height: 1.2em;}#sk-container-id-2 div.sk-label-container {text-align: center;}#sk-container-id-2 div.sk-container {/* jupyter's `normalize.less` sets `[hidden] { display: none; }` but bootstrap.min.css set `[hidden] { display: none !important; }` so we also need the `!important` here to be able to override the default hidden behavior on the sphinx rendered scikit-learn.org. See: https://github.com/scikit-learn/scikit-learn/issues/21755 */display: inline-block !important;position: relative;}#sk-container-id-2 div.sk-text-repr-fallback {display: none;}</style><div id=\"sk-container-id-2\" class=\"sk-top-container\"><div class=\"sk-text-repr-fallback\"><pre>TargetEncoder(cols=[&#x27;make&#x27;])</pre><b>In a Jupyter environment, please rerun this cell to show the HTML representation or trust the notebook. <br />On GitHub, the HTML representation is unable to render, please try loading this page with nbviewer.org.</b></div><div class=\"sk-container\" hidden><div class=\"sk-item\"><div class=\"sk-estimator sk-toggleable\"><input class=\"sk-toggleable__control sk-hidden--visually\" id=\"sk-estimator-id-2\" type=\"checkbox\" checked><label for=\"sk-estimator-id-2\" class=\"sk-toggleable__label sk-toggleable__label-arrow\">TargetEncoder</label><div class=\"sk-toggleable__content\"><pre>TargetEncoder(cols=[&#x27;make&#x27;])</pre></div></div></div></div></div>"
      ],
      "text/plain": [
       "TargetEncoder(cols=['make'])"
      ]
     },
     "execution_count": 46,
     "metadata": {},
     "output_type": "execute_result"
    }
   ],
   "source": [
    "import category_encoders as ce\n",
    "\n",
    "# Initializing a TargetEncoder object for the 'make' column\n",
    "make_encoder = ce.TargetEncoder(cols=[\"make\"])\n",
    "\n",
    "# Fit the encoder on the training data\n",
    "make_encoder.fit(df_train[\"make\"], y_train)"
   ]
  },
  {
   "cell_type": "code",
   "execution_count": 47,
   "metadata": {},
   "outputs": [
    {
     "name": "stdout",
     "output_type": "stream",
     "text": [
      "{'make': make\n",
      " 1      9.923043\n",
      " 2     10.071960\n",
      " 3      9.898225\n",
      " 4     10.136085\n",
      " 5      9.891467\n",
      " 6     12.339147\n",
      " 7     10.922195\n",
      " 8     11.243373\n",
      " 9     11.418711\n",
      " 10     9.735415\n",
      " 11    12.314918\n",
      " 12    10.467419\n",
      " 13     9.961741\n",
      " 14     9.446147\n",
      " 15    10.064204\n",
      " 16     9.621839\n",
      " 17     9.960265\n",
      " 18    10.474587\n",
      " 19    11.263708\n",
      " 20    10.591047\n",
      " 21    11.544051\n",
      " 22    10.551948\n",
      " 23     9.871809\n",
      " 24     9.599631\n",
      " 25    10.987833\n",
      " 26     9.453678\n",
      " 27     9.904359\n",
      " 28     9.862170\n",
      " 29    10.099542\n",
      " 30    10.720587\n",
      " 31    10.037174\n",
      " 32    10.062154\n",
      " 33    12.366901\n",
      " 34     8.497262\n",
      " 35    10.075455\n",
      " 36     9.637519\n",
      " 37    10.481705\n",
      " 38     7.728187\n",
      " 39    10.810666\n",
      " 40     9.599934\n",
      " 41    12.110914\n",
      " 42    10.713491\n",
      " 43    10.216147\n",
      " 44    10.205382\n",
      " 45    10.370112\n",
      " 46    10.572671\n",
      " 47    10.441371\n",
      " 48    10.258244\n",
      "-1     10.107251\n",
      "-2     10.107251\n",
      "dtype: float64}\n"
     ]
    }
   ],
   "source": [
    "# Check the mapping for the 'make' column\n",
    "print(make_encoder.mapping)"
   ]
  },
  {
   "cell_type": "code",
   "execution_count": 48,
   "metadata": {},
   "outputs": [
    {
     "data": {
      "text/plain": [
       "0.42873752290429507"
      ]
     },
     "execution_count": 48,
     "metadata": {},
     "output_type": "execute_result"
    }
   ],
   "source": [
    "X_train = prepare_X(df_train, encoder, make_encoder)\n",
    "# Add a column of ones for the intercept term\n",
    "X_train = np.column_stack([np.ones((X_train.shape[0], 1)), X_train])\n",
    "# Train the linear regression model\n",
    "w0, w = train_linear_regression(X_train, y_train)\n",
    "\n",
    "# Calculate the predicted values\n",
    "y_pred = X_train.dot(np.hstack([w0, w]))\n",
    "\n",
    "rmse(y_train, y_pred)"
   ]
  },
  {
   "cell_type": "markdown",
   "metadata": {},
   "source": [
    "A decrease in RMSE to 42% is significant, But not good enough as the model is still not optimal.\n",
    "\n",
    "We will consider the market category as a feature, but first we will fill the missing values as 'others' before encoding the feature."
   ]
  },
  {
   "cell_type": "code",
   "execution_count": 49,
   "metadata": {},
   "outputs": [],
   "source": [
    "# Fill missing values in the 'market-category' column with 'Other' category\n",
    "df_train[\"market-category\"] = df_train[\"market-category\"].fillna(\"Other\")"
   ]
  },
  {
   "cell_type": "code",
   "execution_count": 50,
   "metadata": {},
   "outputs": [
    {
     "data": {
      "text/plain": [
       "make                 0\n",
       "model                0\n",
       "year                 0\n",
       "engine-fuel-type     1\n",
       "engine-hp            0\n",
       "engine-cylinders     0\n",
       "transmission-type    0\n",
       "driven_wheels        0\n",
       "number-of-doors      0\n",
       "market-category      0\n",
       "vehicle-size         0\n",
       "vehicle-style        0\n",
       "highway-mpg          0\n",
       "city-mpg             0\n",
       "popularity           0\n",
       "dtype: int64"
      ]
     },
     "execution_count": 50,
     "metadata": {},
     "output_type": "execute_result"
    }
   ],
   "source": [
    "# Confirm that the values have been filled\n",
    "df_train.isnull().sum()"
   ]
  },
  {
   "cell_type": "code",
   "execution_count": 51,
   "metadata": {},
   "outputs": [],
   "source": [
    "# Function for preparing features with the encoded models\n",
    "def prepare_X(df, encoder, make_encoder, mkt_encoder):\n",
    "    df = df.copy()\n",
    "    df[\"age\"] = 2017 - df_train.year\n",
    "    features = base + [\"age\"]\n",
    "\n",
    "    # Append the encoded model feature to the base features list\n",
    "    df[\"encoded_model\"] = encoder.transform(df[\"model\"])\n",
    "    features = features + [\"encoded_model\"]\n",
    "    df[\"encoded_make\"] = make_encoder.transform(df[\"make\"])\n",
    "    new_features = features + [\"encoded_make\"]\n",
    "\n",
    "    df[\"encoded_mkt\"] = mkt_encoder.transform(df[\"market-category\"])\n",
    "    new_features = new_features + [\"encoded_mkt\"]\n",
    "\n",
    "    df_num = df[new_features]\n",
    "    X = df_num.values\n",
    "    return X"
   ]
  },
  {
   "cell_type": "code",
   "execution_count": 52,
   "metadata": {},
   "outputs": [
    {
     "data": {
      "text/html": [
       "<style>#sk-container-id-3 {color: black;background-color: white;}#sk-container-id-3 pre{padding: 0;}#sk-container-id-3 div.sk-toggleable {background-color: white;}#sk-container-id-3 label.sk-toggleable__label {cursor: pointer;display: block;width: 100%;margin-bottom: 0;padding: 0.3em;box-sizing: border-box;text-align: center;}#sk-container-id-3 label.sk-toggleable__label-arrow:before {content: \"▸\";float: left;margin-right: 0.25em;color: #696969;}#sk-container-id-3 label.sk-toggleable__label-arrow:hover:before {color: black;}#sk-container-id-3 div.sk-estimator:hover label.sk-toggleable__label-arrow:before {color: black;}#sk-container-id-3 div.sk-toggleable__content {max-height: 0;max-width: 0;overflow: hidden;text-align: left;background-color: #f0f8ff;}#sk-container-id-3 div.sk-toggleable__content pre {margin: 0.2em;color: black;border-radius: 0.25em;background-color: #f0f8ff;}#sk-container-id-3 input.sk-toggleable__control:checked~div.sk-toggleable__content {max-height: 200px;max-width: 100%;overflow: auto;}#sk-container-id-3 input.sk-toggleable__control:checked~label.sk-toggleable__label-arrow:before {content: \"▾\";}#sk-container-id-3 div.sk-estimator input.sk-toggleable__control:checked~label.sk-toggleable__label {background-color: #d4ebff;}#sk-container-id-3 div.sk-label input.sk-toggleable__control:checked~label.sk-toggleable__label {background-color: #d4ebff;}#sk-container-id-3 input.sk-hidden--visually {border: 0;clip: rect(1px 1px 1px 1px);clip: rect(1px, 1px, 1px, 1px);height: 1px;margin: -1px;overflow: hidden;padding: 0;position: absolute;width: 1px;}#sk-container-id-3 div.sk-estimator {font-family: monospace;background-color: #f0f8ff;border: 1px dotted black;border-radius: 0.25em;box-sizing: border-box;margin-bottom: 0.5em;}#sk-container-id-3 div.sk-estimator:hover {background-color: #d4ebff;}#sk-container-id-3 div.sk-parallel-item::after {content: \"\";width: 100%;border-bottom: 1px solid gray;flex-grow: 1;}#sk-container-id-3 div.sk-label:hover label.sk-toggleable__label {background-color: #d4ebff;}#sk-container-id-3 div.sk-serial::before {content: \"\";position: absolute;border-left: 1px solid gray;box-sizing: border-box;top: 0;bottom: 0;left: 50%;z-index: 0;}#sk-container-id-3 div.sk-serial {display: flex;flex-direction: column;align-items: center;background-color: white;padding-right: 0.2em;padding-left: 0.2em;position: relative;}#sk-container-id-3 div.sk-item {position: relative;z-index: 1;}#sk-container-id-3 div.sk-parallel {display: flex;align-items: stretch;justify-content: center;background-color: white;position: relative;}#sk-container-id-3 div.sk-item::before, #sk-container-id-3 div.sk-parallel-item::before {content: \"\";position: absolute;border-left: 1px solid gray;box-sizing: border-box;top: 0;bottom: 0;left: 50%;z-index: -1;}#sk-container-id-3 div.sk-parallel-item {display: flex;flex-direction: column;z-index: 1;position: relative;background-color: white;}#sk-container-id-3 div.sk-parallel-item:first-child::after {align-self: flex-end;width: 50%;}#sk-container-id-3 div.sk-parallel-item:last-child::after {align-self: flex-start;width: 50%;}#sk-container-id-3 div.sk-parallel-item:only-child::after {width: 0;}#sk-container-id-3 div.sk-dashed-wrapped {border: 1px dashed gray;margin: 0 0.4em 0.5em 0.4em;box-sizing: border-box;padding-bottom: 0.4em;background-color: white;}#sk-container-id-3 div.sk-label label {font-family: monospace;font-weight: bold;display: inline-block;line-height: 1.2em;}#sk-container-id-3 div.sk-label-container {text-align: center;}#sk-container-id-3 div.sk-container {/* jupyter's `normalize.less` sets `[hidden] { display: none; }` but bootstrap.min.css set `[hidden] { display: none !important; }` so we also need the `!important` here to be able to override the default hidden behavior on the sphinx rendered scikit-learn.org. See: https://github.com/scikit-learn/scikit-learn/issues/21755 */display: inline-block !important;position: relative;}#sk-container-id-3 div.sk-text-repr-fallback {display: none;}</style><div id=\"sk-container-id-3\" class=\"sk-top-container\"><div class=\"sk-text-repr-fallback\"><pre>TargetEncoder(cols=[&#x27;market-category&#x27;])</pre><b>In a Jupyter environment, please rerun this cell to show the HTML representation or trust the notebook. <br />On GitHub, the HTML representation is unable to render, please try loading this page with nbviewer.org.</b></div><div class=\"sk-container\" hidden><div class=\"sk-item\"><div class=\"sk-estimator sk-toggleable\"><input class=\"sk-toggleable__control sk-hidden--visually\" id=\"sk-estimator-id-3\" type=\"checkbox\" checked><label for=\"sk-estimator-id-3\" class=\"sk-toggleable__label sk-toggleable__label-arrow\">TargetEncoder</label><div class=\"sk-toggleable__content\"><pre>TargetEncoder(cols=[&#x27;market-category&#x27;])</pre></div></div></div></div></div>"
      ],
      "text/plain": [
       "TargetEncoder(cols=['market-category'])"
      ]
     },
     "execution_count": 52,
     "metadata": {},
     "output_type": "execute_result"
    }
   ],
   "source": [
    "import category_encoders as ce\n",
    "\n",
    "# Initializing a TargetEncoder object for the  column\n",
    "\n",
    "mkt_encoder = ce.TargetEncoder(cols=[\"market-category\"])\n",
    "\n",
    "# Fit the encoder on the training data\n",
    "mkt_encoder.fit(df_train[\"market-category\"], y_train)"
   ]
  },
  {
   "cell_type": "code",
   "execution_count": 53,
   "metadata": {},
   "outputs": [
    {
     "data": {
      "text/plain": [
       "0.42403536115345697"
      ]
     },
     "execution_count": 53,
     "metadata": {},
     "output_type": "execute_result"
    }
   ],
   "source": [
    "X_train = prepare_X(df_train, encoder, make_encoder,mkt_encoder)\n",
    "# Add a column of ones for the intercept term\n",
    "X_train = np.column_stack([np.ones((X_train.shape[0], 1)), X_train])\n",
    "# Train the linear regression model\n",
    "w0, w = train_linear_regression(X_train, y_train)\n",
    "\n",
    "# Calculate the predicted values\n",
    "y_pred = X_train.dot(np.hstack([w0, w]))\n",
    "\n",
    "rmse(y_train, y_pred)"
   ]
  },
  {
   "cell_type": "markdown",
   "metadata": {},
   "source": [
    "After incorporating the market category column, there is an increase of approximately 1.096% in the model's performance. We will proceed incorporate all the other features at once.\n",
    "\n",
    "We start by filling the missing engine-fuel-type values"
   ]
  },
  {
   "cell_type": "code",
   "execution_count": 54,
   "metadata": {},
   "outputs": [],
   "source": [
    "df_train[\"engine-fuel-type\"] = df_train[\"engine-fuel-type\"].fillna(\"regular_unleaded\")"
   ]
  },
  {
   "cell_type": "code",
   "execution_count": 55,
   "metadata": {},
   "outputs": [],
   "source": [
    "# Funtion to train the model\n",
    "def train_linear_regression_reg(X, y, r):\n",
    "    # Find X transpose and use dot() funtion to multiply it to X\n",
    "    XTX = X.T.dot(X)\n",
    "    XTX = XTX + r * np.eye(XTX.shape[0])\n",
    "    # Find the inverse of XTX\n",
    "    XTX_inv = np.linalg.inv(XTX)\n",
    "    # Find the list of weights w\n",
    "    w_full = XTX_inv.dot(X.T).dot(y)\n",
    "    # Return w0 and the rest of the weights as a tuple\n",
    "    return w_full[0], w_full[1:]"
   ]
  },
  {
   "cell_type": "code",
   "execution_count": 56,
   "metadata": {},
   "outputs": [],
   "source": [
    "# Function for preparing features with the encoded model\n",
    "\n",
    "def prepare_X(df, encoder, make_encoder, mkt_encoder, transmission_encoder, doors_encoder, size_encoder, style_encoder, wheels_encoder, fuel_encoder):\n",
    "\n",
    "    df = df.copy()\n",
    "\n",
    "    df[\"age\"] = 2017 - df_train.year\n",
    "\n",
    "    features = base + [\"age\"]\n",
    "\n",
    "\n",
    "    # Append the encoded model feature to the base features list\n",
    "\n",
    "    df[\"encoded_model\"] = encoder.transform(df[\"model\"])\n",
    "\n",
    "    features = features + [\"encoded_model\"]\n",
    "\n",
    "    df[\"encoded_make\"] = make_encoder.transform(df[\"make\"])\n",
    "\n",
    "    new_features = features + [\"encoded_make\"]\n",
    "\n",
    "\n",
    "    df[\"encoded_mkt\"] = mkt_encoder.transform(df[\"market-category\"])\n",
    "\n",
    "    new_features = new_features + [\"encoded_mkt\"]\n",
    "\n",
    "    df[\"encoded_transmission\"] = transmission_encoder.transform(df[\"transmission-type\"])\n",
    "\n",
    "    df[\"encoded_doors\"] = doors_encoder.transform(df[\"number-of-doors\"])\n",
    "\n",
    "    df[\"encoded_size\"] = size_encoder.transform(df[\"vehicle-size\"])\n",
    "\n",
    "    df[\"encoded_style\"] = style_encoder.transform(df[\"vehicle-style\"])\n",
    "\n",
    "    df[\"encoded_wheels\"] = wheels_encoder.transform(df[\"driven_wheels\"])\n",
    "\n",
    "    df[\"encoded_fuel\"] = fuel_encoder.transform(df[\"engine-fuel-type\"])\n",
    "\n",
    "    new_features = (\n",
    "\n",
    "\n",
    "\n",
    "\n",
    "        new_features\n",
    "\n",
    "\n",
    "\n",
    "\n",
    "        + [\"encoded_transmission\"]\n",
    "\n",
    "\n",
    "\n",
    "\n",
    "        + [\"encoded_doors\"]\n",
    "\n",
    "\n",
    "\n",
    "\n",
    "        + [\"encoded_size\"]\n",
    "\n",
    "\n",
    "\n",
    "\n",
    "        + [\"encoded_style\"]\n",
    "\n",
    "\n",
    "\n",
    "\n",
    "        + [\"encoded_wheels\"]\n",
    "\n",
    "\n",
    "\n",
    "\n",
    "        + [\"encoded_fuel\"]\n",
    "    )\n",
    "\n",
    "\n",
    "    df_num = df[new_features]\n",
    "\n",
    "    X = df_num.values\n",
    "\n",
    "    return X"
   ]
  },
  {
   "cell_type": "code",
   "execution_count": 57,
   "metadata": {},
   "outputs": [
    {
     "data": {
      "text/html": [
       "<style>#sk-container-id-4 {color: black;background-color: white;}#sk-container-id-4 pre{padding: 0;}#sk-container-id-4 div.sk-toggleable {background-color: white;}#sk-container-id-4 label.sk-toggleable__label {cursor: pointer;display: block;width: 100%;margin-bottom: 0;padding: 0.3em;box-sizing: border-box;text-align: center;}#sk-container-id-4 label.sk-toggleable__label-arrow:before {content: \"▸\";float: left;margin-right: 0.25em;color: #696969;}#sk-container-id-4 label.sk-toggleable__label-arrow:hover:before {color: black;}#sk-container-id-4 div.sk-estimator:hover label.sk-toggleable__label-arrow:before {color: black;}#sk-container-id-4 div.sk-toggleable__content {max-height: 0;max-width: 0;overflow: hidden;text-align: left;background-color: #f0f8ff;}#sk-container-id-4 div.sk-toggleable__content pre {margin: 0.2em;color: black;border-radius: 0.25em;background-color: #f0f8ff;}#sk-container-id-4 input.sk-toggleable__control:checked~div.sk-toggleable__content {max-height: 200px;max-width: 100%;overflow: auto;}#sk-container-id-4 input.sk-toggleable__control:checked~label.sk-toggleable__label-arrow:before {content: \"▾\";}#sk-container-id-4 div.sk-estimator input.sk-toggleable__control:checked~label.sk-toggleable__label {background-color: #d4ebff;}#sk-container-id-4 div.sk-label input.sk-toggleable__control:checked~label.sk-toggleable__label {background-color: #d4ebff;}#sk-container-id-4 input.sk-hidden--visually {border: 0;clip: rect(1px 1px 1px 1px);clip: rect(1px, 1px, 1px, 1px);height: 1px;margin: -1px;overflow: hidden;padding: 0;position: absolute;width: 1px;}#sk-container-id-4 div.sk-estimator {font-family: monospace;background-color: #f0f8ff;border: 1px dotted black;border-radius: 0.25em;box-sizing: border-box;margin-bottom: 0.5em;}#sk-container-id-4 div.sk-estimator:hover {background-color: #d4ebff;}#sk-container-id-4 div.sk-parallel-item::after {content: \"\";width: 100%;border-bottom: 1px solid gray;flex-grow: 1;}#sk-container-id-4 div.sk-label:hover label.sk-toggleable__label {background-color: #d4ebff;}#sk-container-id-4 div.sk-serial::before {content: \"\";position: absolute;border-left: 1px solid gray;box-sizing: border-box;top: 0;bottom: 0;left: 50%;z-index: 0;}#sk-container-id-4 div.sk-serial {display: flex;flex-direction: column;align-items: center;background-color: white;padding-right: 0.2em;padding-left: 0.2em;position: relative;}#sk-container-id-4 div.sk-item {position: relative;z-index: 1;}#sk-container-id-4 div.sk-parallel {display: flex;align-items: stretch;justify-content: center;background-color: white;position: relative;}#sk-container-id-4 div.sk-item::before, #sk-container-id-4 div.sk-parallel-item::before {content: \"\";position: absolute;border-left: 1px solid gray;box-sizing: border-box;top: 0;bottom: 0;left: 50%;z-index: -1;}#sk-container-id-4 div.sk-parallel-item {display: flex;flex-direction: column;z-index: 1;position: relative;background-color: white;}#sk-container-id-4 div.sk-parallel-item:first-child::after {align-self: flex-end;width: 50%;}#sk-container-id-4 div.sk-parallel-item:last-child::after {align-self: flex-start;width: 50%;}#sk-container-id-4 div.sk-parallel-item:only-child::after {width: 0;}#sk-container-id-4 div.sk-dashed-wrapped {border: 1px dashed gray;margin: 0 0.4em 0.5em 0.4em;box-sizing: border-box;padding-bottom: 0.4em;background-color: white;}#sk-container-id-4 div.sk-label label {font-family: monospace;font-weight: bold;display: inline-block;line-height: 1.2em;}#sk-container-id-4 div.sk-label-container {text-align: center;}#sk-container-id-4 div.sk-container {/* jupyter's `normalize.less` sets `[hidden] { display: none; }` but bootstrap.min.css set `[hidden] { display: none !important; }` so we also need the `!important` here to be able to override the default hidden behavior on the sphinx rendered scikit-learn.org. See: https://github.com/scikit-learn/scikit-learn/issues/21755 */display: inline-block !important;position: relative;}#sk-container-id-4 div.sk-text-repr-fallback {display: none;}</style><div id=\"sk-container-id-4\" class=\"sk-top-container\"><div class=\"sk-text-repr-fallback\"><pre>TargetEncoder(cols=[&#x27;engine-fuel-type&#x27;])</pre><b>In a Jupyter environment, please rerun this cell to show the HTML representation or trust the notebook. <br />On GitHub, the HTML representation is unable to render, please try loading this page with nbviewer.org.</b></div><div class=\"sk-container\" hidden><div class=\"sk-item\"><div class=\"sk-estimator sk-toggleable\"><input class=\"sk-toggleable__control sk-hidden--visually\" id=\"sk-estimator-id-4\" type=\"checkbox\" checked><label for=\"sk-estimator-id-4\" class=\"sk-toggleable__label sk-toggleable__label-arrow\">TargetEncoder</label><div class=\"sk-toggleable__content\"><pre>TargetEncoder(cols=[&#x27;engine-fuel-type&#x27;])</pre></div></div></div></div></div>"
      ],
      "text/plain": [
       "TargetEncoder(cols=['engine-fuel-type'])"
      ]
     },
     "execution_count": 57,
     "metadata": {},
     "output_type": "execute_result"
    }
   ],
   "source": [
    "import category_encoders as ce\n",
    "\n",
    "# Initialize encoders for each categorical variable\n",
    "transmission_encoder = ce.TargetEncoder(cols=[\"transmission-type\"])\n",
    "doors_encoder = ce.TargetEncoder(cols=[\"number-of-doors\"])\n",
    "size_encoder = ce.TargetEncoder(cols=[\"vehicle-size\"])\n",
    "style_encoder = ce.TargetEncoder(cols=[\"vehicle-style\"])\n",
    "wheels_encoder = ce.TargetEncoder(cols=[\"driven_wheels\"])\n",
    "fuel_encoder = ce.TargetEncoder(cols=[\"engine-fuel-type\"])\n",
    "\n",
    "# Fit the encoder on the training data\n",
    "transmission_encoder.fit(df_train[\"transmission-type\"], y_train)\n",
    "doors_encoder.fit(df_train[\"number-of-doors\"], y_train)\n",
    "size_encoder.fit(df_train[\"vehicle-size\"], y_train)\n",
    "style_encoder.fit(df_train[\"vehicle-style\"], y_train)\n",
    "wheels_encoder.fit(df_train[\"driven_wheels\"], y_train)\n",
    "fuel_encoder.fit(df_train[\"engine-fuel-type\"], y_train)"
   ]
  },
  {
   "cell_type": "code",
   "execution_count": 76,
   "metadata": {},
   "outputs": [
    {
     "data": {
      "text/plain": [
       "0.41529377201172857"
      ]
     },
     "execution_count": 76,
     "metadata": {},
     "output_type": "execute_result"
    }
   ],
   "source": [
    "X_train = prepare_X(\n",
    "    df_train,\n",
    "    encoder,\n",
    "    make_encoder,\n",
    "    mkt_encoder,\n",
    "    transmission_encoder,\n",
    "    doors_encoder,\n",
    "    size_encoder,\n",
    "    style_encoder,\n",
    "    wheels_encoder,\n",
    "    fuel_encoder,\n",
    ")\n",
    "X_train = np.column_stack([np.ones((X_train.shape[0], 1)), X_train])\n",
    "\n",
    "# Train the linear regression model\n",
    "w0, w = train_linear_regression_reg(X_train, y_train, r=0.001)\n",
    "\n",
    "# Calculate the predicted values\n",
    "y_pred = X_train.dot(np.hstack([w0, w]))\n",
    "\n",
    "rmse(y_train, y_pred)"
   ]
  },
  {
   "cell_type": "markdown",
   "metadata": {},
   "source": [
    "### Observation\n",
    "After training the model using all available features, we achieved a Root Mean Squared Error (RMSE) of approximately 0.4153. This signifies that, on average, our model's predictions deviate from the actual car prices by around $415. This improvement suggests that the additional features have contributed positively to the model's ability to capture the underlying patterns in car prices.\n",
    "\n",
    "Moving forward, we will validate the model's performance to ensure its reliability and generalization on unseen data.\"\n"
   ]
  },
  {
   "cell_type": "markdown",
   "metadata": {},
   "source": [
    "## Evaluate model's peformance of the validatin dataset"
   ]
  },
  {
   "cell_type": "code",
   "execution_count": 103,
   "metadata": {},
   "outputs": [
    {
     "data": {
      "text/plain": [
       "0.5151079385528352"
      ]
     },
     "execution_count": 103,
     "metadata": {},
     "output_type": "execute_result"
    }
   ],
   "source": [
    "# Prepare features for the validation set\n",
    "X_val = prepare_X(\n",
    "    df_val,\n",
    "    encoder,\n",
    "    make_encoder,\n",
    "    mkt_encoder,\n",
    "    transmission_encoder,\n",
    "    doors_encoder,\n",
    "    size_encoder,\n",
    "    style_encoder,\n",
    "    wheels_encoder,\n",
    "    fuel_encoder,\n",
    ")\n",
    "X_val = np.column_stack([np.ones((X_val.shape[0], 1)), X_val])\n",
    "\n",
    "# Train the linear regression model\n",
    "w0, w = train_linear_regression_reg(X_val, y_val, r=0.001)\n",
    "\n",
    "# Calculate the predicted values\n",
    "y_pred = X_val.dot(np.hstack([w0, w]))\n",
    "\n",
    "# Calculate the root mean squared error (RMSE) between the predicted and actual values for the validation set\n",
    "rmse(y_val, y_pred)"
   ]
  },
  {
   "cell_type": "markdown",
   "metadata": {},
   "source": [
    "## Observation\n",
    "\n",
    "The RMSE on the validation data is approximately 0.5151, indicating the model's performance on unseen data. To evaluate its generalization capability, we compare this RMSE value to the error observed during training.\n",
    "\n",
    "- RMSE on Training Data: 0.4153\n",
    "- RMSE on Validation Data: 0.5151\n",
    "\n",
    "The difference between the RMSE on the validation data and the training data is 0.0998.\n",
    "\n",
    "The increase in RMSE from the training data to the validation data suggests that the model's performance may have slightly degraded when applied to unseen data. This difference implies that the model is likely suffering from overfitting. Overfitting occurs when a model learns to capture noise and random fluctuations in the training data rather than the underlying patterns that generalize well to unseen data.\n",
    "\n",
    "\n",
    "Clearly, the model's performance is subpar. However, we will further test it using the features of one car and see what it predicts in the next cell.\n",
    "\n",
    "\n",
    "\n",
    "\n",
    "\n"
   ]
  },
  {
   "cell_type": "code",
   "execution_count": 84,
   "metadata": {},
   "outputs": [],
   "source": [
    "# Train the linear regression model\n",
    "w0, w = train_linear_regression_reg(X_train, y_train, r=0.001)"
   ]
  },
  {
   "cell_type": "code",
   "execution_count": 85,
   "metadata": {},
   "outputs": [
    {
     "data": {
      "text/plain": [
       "array([ 8.25971828e-04,  9.77269599e-02, -6.83691472e-03,  6.66978443e-03,\n",
       "       -2.47931169e-05, -6.49348109e-02,  7.01948585e-01,  1.97913269e-01,\n",
       "        1.02378504e-01,  8.86757856e-02,  2.12312015e-01, -1.83585017e-01,\n",
       "        3.78500353e-02, -2.11036462e-04,  1.56074517e-01])"
      ]
     },
     "execution_count": 85,
     "metadata": {},
     "output_type": "execute_result"
    }
   ],
   "source": [
    "w"
   ]
  },
  {
   "cell_type": "code",
   "execution_count": 86,
   "metadata": {},
   "outputs": [
    {
     "data": {
      "text/plain": [
       "{'make': 'bmw',\n",
       " 'model': '3_series_gran_turismo',\n",
       " 'year': 2015.0,\n",
       " 'engine-fuel-type': 'premium_unleaded_(required)',\n",
       " 'engine-hp': 240.0,\n",
       " 'engine-cylinders': 4.0,\n",
       " 'transmission-type': 'automatic',\n",
       " 'driven_wheels': 'all_wheel_drive',\n",
       " 'number-of-doors': 4.0,\n",
       " 'market-category': 'hatchback,luxury',\n",
       " 'vehicle-size': 'midsize',\n",
       " 'vehicle-style': '4dr_hatchback',\n",
       " 'highway-mpg': 33.0,\n",
       " 'city-mpg': 22.0,\n",
       " 'popularity': 3916.0}"
      ]
     },
     "execution_count": 86,
     "metadata": {},
     "output_type": "execute_result"
    }
   ],
   "source": [
    "# Extracting the features of one car from the validation dataset\n",
    "test_car = df_val.iloc[27].to_dict()\n",
    "test_car"
   ]
  },
  {
   "cell_type": "code",
   "execution_count": 87,
   "metadata": {},
   "outputs": [],
   "source": [
    "# Convert into a DataFrame\n",
    "df_small = pd.DataFrame([test_car])"
   ]
  },
  {
   "cell_type": "code",
   "execution_count": 90,
   "metadata": {},
   "outputs": [],
   "source": [
    "# Prepare features \n",
    "X_small = prepare_X(\n",
    "    df_small,\n",
    "    encoder,\n",
    "    make_encoder,\n",
    "    mkt_encoder,\n",
    "    transmission_encoder,\n",
    "    doors_encoder,\n",
    "    size_encoder,\n",
    "    style_encoder,\n",
    "    wheels_encoder,\n",
    "    fuel_encoder,\n",
    ")\n"
   ]
  },
  {
   "cell_type": "code",
   "execution_count": 91,
   "metadata": {},
   "outputs": [
    {
     "data": {
      "text/plain": [
       "10.040660392862964"
      ]
     },
     "execution_count": 91,
     "metadata": {},
     "output_type": "execute_result"
    }
   ],
   "source": [
    "# Predict the price of the car\n",
    "y_pred = w0 + X_small.dot(w)\n",
    "y_pred = y_pred[0]\n",
    "y_pred"
   ]
  },
  {
   "cell_type": "code",
   "execution_count": 92,
   "metadata": {},
   "outputs": [
    {
     "data": {
      "text/plain": [
       "22939.527676068912"
      ]
     },
     "execution_count": 92,
     "metadata": {},
     "output_type": "execute_result"
    }
   ],
   "source": [
    "# Calculate the actual predicted car price by reversing the log transformation\n",
    "np.expm1(y_pred)"
   ]
  },
  {
   "cell_type": "code",
   "execution_count": 93,
   "metadata": {},
   "outputs": [
    {
     "data": {
      "text/plain": [
       "10.641870970494749"
      ]
     },
     "execution_count": 93,
     "metadata": {},
     "output_type": "execute_result"
    }
   ],
   "source": [
    "#Find the actual price of the car\n",
    "y_val[27]"
   ]
  },
  {
   "cell_type": "code",
   "execution_count": 94,
   "metadata": {},
   "outputs": [
    {
     "data": {
      "text/plain": [
       "41850.000000000015"
      ]
     },
     "execution_count": 94,
     "metadata": {},
     "output_type": "execute_result"
    }
   ],
   "source": [
    "# Calculate the actual car price by reversing the log transformation\n",
    "np.expm1(y_val[27])"
   ]
  },
  {
   "cell_type": "markdown",
   "metadata": {},
   "source": [
    "## Observation\n",
    "\n",
    "The predicted price of the car is $22,939, whereas the actual price is $41,850. This indicates a substantial discrepancy between the model's prediction and the true value. Such a large disparity suggests that the model is not accurately capturing the underlying patterns in the data or that there may be features missing from the model that significantly influence the price prediction. \n",
    "\n",
    "In other words, the model's performance is poor, and it fails to provide reliable predictions for car prices.\n"
   ]
  },
  {
   "cell_type": "markdown",
   "metadata": {},
   "source": [
    "## Next Steps for Improving the Car Price Prediction Model\n",
    "\n",
    "\n",
    "Given the significant discrepancy between the predicted and actual prices, further investigation and improvement of the model are essential. \n",
    "\n",
    "Potential actions to consider:\n",
    "\n",
    "- Revisit the feature engineering process to ensure that we are capturing all relevant information that could impact car prices. This may involve exploring additional data sources, refining existing features, or creating new ones based on domain knowledge.\n",
    "\n",
    "- Experiment with different machine learning algorithms or ensemble techniques to see if they offer better predictive performance compared to the current model. Techniques such as decision trees, random forests, or gradient boosting could be worth exploring, as they may better capture nonlinear relationships in the data.\n",
    "\n",
    "\n",
    "- Hyperparameter tuning could be applied to fine-tune the selected algorithms and optimize their performance. This involves systematically adjusting the parameters of the model to find the combination that yields the best results on the validation data.\n",
    "\n",
    "By iteratively refining the model and incorporating feedback from evaluation results and domain knowledge, we could build an accurate and robust car price prediction model that better meets the needs of a car price prediction application.\n"
   ]
  },
  {
   "cell_type": "markdown",
   "metadata": {},
   "source": [
    "# Conclusion\n",
    "\n",
    "The project's aim was to develop a machine learning model for predicting car prices based on various features such as make, model, market category, transmission type, and others. We began by conducting exploratory data analysis (EDA) to understand the dataset's characteristics and relationships between variables. During feature engineering, we processed and transformed the data to make it suitable for modeling.\n",
    "\n",
    "Incorporating features such as the car's make, model, and market category improved the model's performance, as evidenced by a decrease in the Root Mean Squared Error (RMSE). However, despite these enhancements, the model exhibited signs of overfitting, as indicated by a higher RMSE on the validation data compared to the training data.\n",
    "\n",
    "To address overfitting, we experimented with regularization techniques such as L1 and L2 regularization but found limited success. Further attempts to mitigate overfitting by adjusting regularization parameters and increasing regularization strength also proved insufficient.\n",
    "\n",
    "When applying the model to individual car instances, we observed significant discrepancies between predicted and actual prices, highlighting the need for further model refinement and investigation.\n",
    "\n",
    "In future iterations of this project, we plan to explore additional feature engineering techniques, alternative modeling approaches, and consult domain experts to enhance the model's predictive accuracy and generalization capabilities. By continuously iterating and refining the model based on feedback and evaluation results, we could develop a robust and reliable car price prediction tool that can assist users in making informed decisions in the automotive market.\n",
    "\n",
    "\n",
    "\n",
    "\n",
    "\n",
    "\n",
    "\n"
   ]
  },
  {
   "cell_type": "markdown",
   "metadata": {},
   "source": []
  }
 ],
 "metadata": {
  "kernelspec": {
   "display_name": "base",
   "language": "python",
   "name": "python3"
  },
  "language_info": {
   "codemirror_mode": {
    "name": "ipython",
    "version": 3
   },
   "file_extension": ".py",
   "mimetype": "text/x-python",
   "name": "python",
   "nbconvert_exporter": "python",
   "pygments_lexer": "ipython3",
   "version": "3.11.7"
  }
 },
 "nbformat": 4,
 "nbformat_minor": 2
}
